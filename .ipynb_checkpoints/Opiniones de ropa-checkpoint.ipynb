{
 "cells": [
  {
   "cell_type": "markdown",
   "metadata": {},
   "source": [
    "# Análisis de opiniones de ropa de mujer de un sitio web"
   ]
  },
  {
   "cell_type": "markdown",
   "metadata": {},
   "source": [
    "Primero, importamos las librerías necesarias"
   ]
  },
  {
   "cell_type": "code",
   "execution_count": 1,
   "metadata": {},
   "outputs": [],
   "source": [
    "import pandas as pd\n",
    "import numpy as np\n",
    "import scipy.stats as st\n",
    "import matplotlib.pyplot as plt\n",
    "import seaborn as sns"
   ]
  },
  {
   "cell_type": "markdown",
   "metadata": {},
   "source": [
    "Creamos un DataFrame nuevo a partir de un archivo y comprobamos que es el correcto mostrando las primeras 10 líneas"
   ]
  },
  {
   "cell_type": "code",
   "execution_count": 2,
   "metadata": {},
   "outputs": [
    {
     "data": {
      "text/html": [
       "<div>\n",
       "<style scoped>\n",
       "    .dataframe tbody tr th:only-of-type {\n",
       "        vertical-align: middle;\n",
       "    }\n",
       "\n",
       "    .dataframe tbody tr th {\n",
       "        vertical-align: top;\n",
       "    }\n",
       "\n",
       "    .dataframe thead th {\n",
       "        text-align: right;\n",
       "    }\n",
       "</style>\n",
       "<table border=\"1\" class=\"dataframe\">\n",
       "  <thead>\n",
       "    <tr style=\"text-align: right;\">\n",
       "      <th></th>\n",
       "      <th>Unnamed: 0</th>\n",
       "      <th>Clothing ID</th>\n",
       "      <th>Age</th>\n",
       "      <th>Title</th>\n",
       "      <th>Review Text</th>\n",
       "      <th>Rating</th>\n",
       "      <th>Recommended IND</th>\n",
       "      <th>Positive Feedback Count</th>\n",
       "      <th>Division Name</th>\n",
       "      <th>Department Name</th>\n",
       "      <th>Class Name</th>\n",
       "    </tr>\n",
       "  </thead>\n",
       "  <tbody>\n",
       "    <tr>\n",
       "      <th>0</th>\n",
       "      <td>0</td>\n",
       "      <td>767</td>\n",
       "      <td>33</td>\n",
       "      <td>NaN</td>\n",
       "      <td>Absolutely wonderful - silky and sexy and comf...</td>\n",
       "      <td>4</td>\n",
       "      <td>1</td>\n",
       "      <td>0</td>\n",
       "      <td>Initmates</td>\n",
       "      <td>Intimate</td>\n",
       "      <td>Intimates</td>\n",
       "    </tr>\n",
       "    <tr>\n",
       "      <th>1</th>\n",
       "      <td>1</td>\n",
       "      <td>1080</td>\n",
       "      <td>34</td>\n",
       "      <td>NaN</td>\n",
       "      <td>Love this dress!  it's sooo pretty.  i happene...</td>\n",
       "      <td>5</td>\n",
       "      <td>1</td>\n",
       "      <td>4</td>\n",
       "      <td>General</td>\n",
       "      <td>Dresses</td>\n",
       "      <td>Dresses</td>\n",
       "    </tr>\n",
       "    <tr>\n",
       "      <th>2</th>\n",
       "      <td>2</td>\n",
       "      <td>1077</td>\n",
       "      <td>60</td>\n",
       "      <td>Some major design flaws</td>\n",
       "      <td>I had such high hopes for this dress and reall...</td>\n",
       "      <td>3</td>\n",
       "      <td>0</td>\n",
       "      <td>0</td>\n",
       "      <td>General</td>\n",
       "      <td>Dresses</td>\n",
       "      <td>Dresses</td>\n",
       "    </tr>\n",
       "    <tr>\n",
       "      <th>3</th>\n",
       "      <td>3</td>\n",
       "      <td>1049</td>\n",
       "      <td>50</td>\n",
       "      <td>My favorite buy!</td>\n",
       "      <td>I love, love, love this jumpsuit. it's fun, fl...</td>\n",
       "      <td>5</td>\n",
       "      <td>1</td>\n",
       "      <td>0</td>\n",
       "      <td>General Petite</td>\n",
       "      <td>Bottoms</td>\n",
       "      <td>Pants</td>\n",
       "    </tr>\n",
       "    <tr>\n",
       "      <th>4</th>\n",
       "      <td>4</td>\n",
       "      <td>847</td>\n",
       "      <td>47</td>\n",
       "      <td>Flattering shirt</td>\n",
       "      <td>This shirt is very flattering to all due to th...</td>\n",
       "      <td>5</td>\n",
       "      <td>1</td>\n",
       "      <td>6</td>\n",
       "      <td>General</td>\n",
       "      <td>Tops</td>\n",
       "      <td>Blouses</td>\n",
       "    </tr>\n",
       "    <tr>\n",
       "      <th>5</th>\n",
       "      <td>5</td>\n",
       "      <td>1080</td>\n",
       "      <td>49</td>\n",
       "      <td>Not for the very petite</td>\n",
       "      <td>I love tracy reese dresses, but this one is no...</td>\n",
       "      <td>2</td>\n",
       "      <td>0</td>\n",
       "      <td>4</td>\n",
       "      <td>General</td>\n",
       "      <td>Dresses</td>\n",
       "      <td>Dresses</td>\n",
       "    </tr>\n",
       "    <tr>\n",
       "      <th>6</th>\n",
       "      <td>6</td>\n",
       "      <td>858</td>\n",
       "      <td>39</td>\n",
       "      <td>Cagrcoal shimmer fun</td>\n",
       "      <td>I aded this in my basket at hte last mintue to...</td>\n",
       "      <td>5</td>\n",
       "      <td>1</td>\n",
       "      <td>1</td>\n",
       "      <td>General Petite</td>\n",
       "      <td>Tops</td>\n",
       "      <td>Knits</td>\n",
       "    </tr>\n",
       "    <tr>\n",
       "      <th>7</th>\n",
       "      <td>7</td>\n",
       "      <td>858</td>\n",
       "      <td>39</td>\n",
       "      <td>Shimmer, surprisingly goes with lots</td>\n",
       "      <td>I ordered this in carbon for store pick up, an...</td>\n",
       "      <td>4</td>\n",
       "      <td>1</td>\n",
       "      <td>4</td>\n",
       "      <td>General Petite</td>\n",
       "      <td>Tops</td>\n",
       "      <td>Knits</td>\n",
       "    </tr>\n",
       "    <tr>\n",
       "      <th>8</th>\n",
       "      <td>8</td>\n",
       "      <td>1077</td>\n",
       "      <td>24</td>\n",
       "      <td>Flattering</td>\n",
       "      <td>I love this dress. i usually get an xs but it ...</td>\n",
       "      <td>5</td>\n",
       "      <td>1</td>\n",
       "      <td>0</td>\n",
       "      <td>General</td>\n",
       "      <td>Dresses</td>\n",
       "      <td>Dresses</td>\n",
       "    </tr>\n",
       "    <tr>\n",
       "      <th>9</th>\n",
       "      <td>9</td>\n",
       "      <td>1077</td>\n",
       "      <td>34</td>\n",
       "      <td>Such a fun dress!</td>\n",
       "      <td>I'm 5\"5' and 125 lbs. i ordered the s petite t...</td>\n",
       "      <td>5</td>\n",
       "      <td>1</td>\n",
       "      <td>0</td>\n",
       "      <td>General</td>\n",
       "      <td>Dresses</td>\n",
       "      <td>Dresses</td>\n",
       "    </tr>\n",
       "  </tbody>\n",
       "</table>\n",
       "</div>"
      ],
      "text/plain": [
       "   Unnamed: 0  Clothing ID  Age                                 Title  \\\n",
       "0           0          767   33                                   NaN   \n",
       "1           1         1080   34                                   NaN   \n",
       "2           2         1077   60               Some major design flaws   \n",
       "3           3         1049   50                      My favorite buy!   \n",
       "4           4          847   47                      Flattering shirt   \n",
       "5           5         1080   49               Not for the very petite   \n",
       "6           6          858   39                  Cagrcoal shimmer fun   \n",
       "7           7          858   39  Shimmer, surprisingly goes with lots   \n",
       "8           8         1077   24                            Flattering   \n",
       "9           9         1077   34                     Such a fun dress!   \n",
       "\n",
       "                                         Review Text  Rating  Recommended IND  \\\n",
       "0  Absolutely wonderful - silky and sexy and comf...       4                1   \n",
       "1  Love this dress!  it's sooo pretty.  i happene...       5                1   \n",
       "2  I had such high hopes for this dress and reall...       3                0   \n",
       "3  I love, love, love this jumpsuit. it's fun, fl...       5                1   \n",
       "4  This shirt is very flattering to all due to th...       5                1   \n",
       "5  I love tracy reese dresses, but this one is no...       2                0   \n",
       "6  I aded this in my basket at hte last mintue to...       5                1   \n",
       "7  I ordered this in carbon for store pick up, an...       4                1   \n",
       "8  I love this dress. i usually get an xs but it ...       5                1   \n",
       "9  I'm 5\"5' and 125 lbs. i ordered the s petite t...       5                1   \n",
       "\n",
       "   Positive Feedback Count   Division Name Department Name Class Name  \n",
       "0                        0       Initmates        Intimate  Intimates  \n",
       "1                        4         General         Dresses    Dresses  \n",
       "2                        0         General         Dresses    Dresses  \n",
       "3                        0  General Petite         Bottoms      Pants  \n",
       "4                        6         General            Tops    Blouses  \n",
       "5                        4         General         Dresses    Dresses  \n",
       "6                        1  General Petite            Tops      Knits  \n",
       "7                        4  General Petite            Tops      Knits  \n",
       "8                        0         General         Dresses    Dresses  \n",
       "9                        0         General         Dresses    Dresses  "
      ]
     },
     "execution_count": 2,
     "metadata": {},
     "output_type": "execute_result"
    }
   ],
   "source": [
    "df = pd.read_csv('Womens Clothing E-Commerce Reviews.csv')\n",
    "df.head(10)"
   ]
  },
  {
   "cell_type": "markdown",
   "metadata": {},
   "source": [
    "Revisar el porcentaje de valores nulos en cada columna"
   ]
  },
  {
   "cell_type": "code",
   "execution_count": 3,
   "metadata": {},
   "outputs": [
    {
     "data": {
      "text/plain": [
       "Unnamed: 0                  0.000000\n",
       "Clothing ID                 0.000000\n",
       "Age                         0.000000\n",
       "Title                      16.222430\n",
       "Review Text                 3.597888\n",
       "Rating                      0.000000\n",
       "Recommended IND             0.000000\n",
       "Positive Feedback Count     0.000000\n",
       "Division Name               0.059610\n",
       "Department Name             0.059610\n",
       "Class Name                  0.059610\n",
       "dtype: float64"
      ]
     },
     "execution_count": 3,
     "metadata": {},
     "output_type": "execute_result"
    }
   ],
   "source": [
    "(df.isnull().sum()/len(df)) * 100"
   ]
  },
  {
   "cell_type": "markdown",
   "metadata": {},
   "source": [
    "Revisar el tipo de dato que contiene cada columna para comprobar qué podemos hacer con cada uno. En este caso, por ejemplo, podemos ver que hay objetos (con strings de texto) y números con los que podremos realizar operaciones aritméticas"
   ]
  },
  {
   "cell_type": "code",
   "execution_count": 4,
   "metadata": {},
   "outputs": [
    {
     "name": "stdout",
     "output_type": "stream",
     "text": [
      "<class 'pandas.core.frame.DataFrame'>\n",
      "RangeIndex: 23486 entries, 0 to 23485\n",
      "Data columns (total 11 columns):\n",
      "Unnamed: 0                 23486 non-null int64\n",
      "Clothing ID                23486 non-null int64\n",
      "Age                        23486 non-null int64\n",
      "Title                      19676 non-null object\n",
      "Review Text                22641 non-null object\n",
      "Rating                     23486 non-null int64\n",
      "Recommended IND            23486 non-null int64\n",
      "Positive Feedback Count    23486 non-null int64\n",
      "Division Name              23472 non-null object\n",
      "Department Name            23472 non-null object\n",
      "Class Name                 23472 non-null object\n",
      "dtypes: int64(6), object(5)\n",
      "memory usage: 2.0+ MB\n"
     ]
    }
   ],
   "source": [
    "df.info()"
   ]
  },
  {
   "cell_type": "markdown",
   "metadata": {},
   "source": [
    "Clasificamos en variables las filas que contienen cada grupo de edad, mandamos llamar a las primeras 5 filas de una de ellas."
   ]
  },
  {
   "cell_type": "code",
   "execution_count": 5,
   "metadata": {},
   "outputs": [
    {
     "data": {
      "text/html": [
       "<div>\n",
       "<style scoped>\n",
       "    .dataframe tbody tr th:only-of-type {\n",
       "        vertical-align: middle;\n",
       "    }\n",
       "\n",
       "    .dataframe tbody tr th {\n",
       "        vertical-align: top;\n",
       "    }\n",
       "\n",
       "    .dataframe thead th {\n",
       "        text-align: right;\n",
       "    }\n",
       "</style>\n",
       "<table border=\"1\" class=\"dataframe\">\n",
       "  <thead>\n",
       "    <tr style=\"text-align: right;\">\n",
       "      <th></th>\n",
       "      <th>Unnamed: 0</th>\n",
       "      <th>Clothing ID</th>\n",
       "      <th>Age</th>\n",
       "      <th>Title</th>\n",
       "      <th>Review Text</th>\n",
       "      <th>Rating</th>\n",
       "      <th>Recommended IND</th>\n",
       "      <th>Positive Feedback Count</th>\n",
       "      <th>Division Name</th>\n",
       "      <th>Department Name</th>\n",
       "      <th>Class Name</th>\n",
       "    </tr>\n",
       "  </thead>\n",
       "  <tbody>\n",
       "    <tr>\n",
       "      <th>4</th>\n",
       "      <td>4</td>\n",
       "      <td>847</td>\n",
       "      <td>47</td>\n",
       "      <td>Flattering shirt</td>\n",
       "      <td>This shirt is very flattering to all due to th...</td>\n",
       "      <td>5</td>\n",
       "      <td>1</td>\n",
       "      <td>6</td>\n",
       "      <td>General</td>\n",
       "      <td>Tops</td>\n",
       "      <td>Blouses</td>\n",
       "    </tr>\n",
       "    <tr>\n",
       "      <th>5</th>\n",
       "      <td>5</td>\n",
       "      <td>1080</td>\n",
       "      <td>49</td>\n",
       "      <td>Not for the very petite</td>\n",
       "      <td>I love tracy reese dresses, but this one is no...</td>\n",
       "      <td>2</td>\n",
       "      <td>0</td>\n",
       "      <td>4</td>\n",
       "      <td>General</td>\n",
       "      <td>Dresses</td>\n",
       "      <td>Dresses</td>\n",
       "    </tr>\n",
       "    <tr>\n",
       "      <th>13</th>\n",
       "      <td>13</td>\n",
       "      <td>767</td>\n",
       "      <td>44</td>\n",
       "      <td>Runs big</td>\n",
       "      <td>Bought the black xs to go under the larkspur m...</td>\n",
       "      <td>5</td>\n",
       "      <td>1</td>\n",
       "      <td>0</td>\n",
       "      <td>Initmates</td>\n",
       "      <td>Intimate</td>\n",
       "      <td>Intimates</td>\n",
       "    </tr>\n",
       "    <tr>\n",
       "      <th>15</th>\n",
       "      <td>15</td>\n",
       "      <td>1065</td>\n",
       "      <td>47</td>\n",
       "      <td>Nice, but not for my body</td>\n",
       "      <td>I took these out of the package and wanted the...</td>\n",
       "      <td>4</td>\n",
       "      <td>1</td>\n",
       "      <td>3</td>\n",
       "      <td>General</td>\n",
       "      <td>Bottoms</td>\n",
       "      <td>Pants</td>\n",
       "    </tr>\n",
       "    <tr>\n",
       "      <th>17</th>\n",
       "      <td>17</td>\n",
       "      <td>853</td>\n",
       "      <td>41</td>\n",
       "      <td>Looks great with white pants</td>\n",
       "      <td>Took a chance on this blouse and so glad i did...</td>\n",
       "      <td>5</td>\n",
       "      <td>1</td>\n",
       "      <td>0</td>\n",
       "      <td>General</td>\n",
       "      <td>Tops</td>\n",
       "      <td>Blouses</td>\n",
       "    </tr>\n",
       "  </tbody>\n",
       "</table>\n",
       "</div>"
      ],
      "text/plain": [
       "    Unnamed: 0  Clothing ID  Age                         Title  \\\n",
       "4            4          847   47              Flattering shirt   \n",
       "5            5         1080   49       Not for the very petite   \n",
       "13          13          767   44                      Runs big   \n",
       "15          15         1065   47     Nice, but not for my body   \n",
       "17          17          853   41  Looks great with white pants   \n",
       "\n",
       "                                          Review Text  Rating  \\\n",
       "4   This shirt is very flattering to all due to th...       5   \n",
       "5   I love tracy reese dresses, but this one is no...       2   \n",
       "13  Bought the black xs to go under the larkspur m...       5   \n",
       "15  I took these out of the package and wanted the...       4   \n",
       "17  Took a chance on this blouse and so glad i did...       5   \n",
       "\n",
       "    Recommended IND  Positive Feedback Count Division Name Department Name  \\\n",
       "4                 1                        6       General            Tops   \n",
       "5                 0                        4       General         Dresses   \n",
       "13                1                        0     Initmates        Intimate   \n",
       "15                1                        3       General         Bottoms   \n",
       "17                1                        0       General            Tops   \n",
       "\n",
       "   Class Name  \n",
       "4     Blouses  \n",
       "5     Dresses  \n",
       "13  Intimates  \n",
       "15      Pants  \n",
       "17    Blouses  "
      ]
     },
     "execution_count": 5,
     "metadata": {},
     "output_type": "execute_result"
    }
   ],
   "source": [
    "group1 = df[(df['Age'] >= 18) & (df['Age'] <= 29)]\n",
    "group2 = df[(df['Age'] >= 30) & (df['Age'] <= 39)]\n",
    "group3 = df[(df['Age'] >= 40) & (df['Age'] <= 49)]\n",
    "group4 = df[(df['Age'] >= 50) & (df['Age'] <= 59)]\n",
    "group5 = df[(df['Age'] >= 60) & (df['Age'] <= 69)]\n",
    "group6 = df[(df['Age'] >= 70)]\n",
    "group3.head()"
   ]
  },
  {
   "cell_type": "markdown",
   "metadata": {},
   "source": [
    "Creamos dos variables: una con un arreglo de los nombres de grupos de edad y otra con un arreglo con el número de filas de cada dataframe.\n",
    "Se hace un diccionario juntando los dos arreglos anteriores y creamos un dataframe a partir de éste.\n",
    "Mostramos un gráfico de barras comparando la cantidad de usuarias en cada grupo de edad, donde el eje \"x\" corresponde al nombre asignado a cada grupo de edad y el eje \"y\" corresponde al número total de usuarias en cada uno."
   ]
  },
  {
   "cell_type": "code",
   "execution_count": 6,
   "metadata": {},
   "outputs": [
    {
     "data": {
      "text/plain": [
       "<matplotlib.axes._subplots.AxesSubplot at 0x7f14656fc4e0>"
      ]
     },
     "execution_count": 6,
     "metadata": {},
     "output_type": "execute_result"
    },
    {
     "data": {
      "image/png": "[encoded data removed]",
      "text/plain": [
       "<Figure size 720x432 with 1 Axes>"
      ]
     },
     "metadata": {
      "needs_background": "light"
     },
     "output_type": "display_data"
    }
   ],
   "source": [
    "age_groups = [\"18 a 29\", \"30 a 39\", \"40 a 49\", \"50 a 59\", \"60 a 69\", \"70 y más\"]\n",
    "group_length = [len(group1), len(group2), len(group3), len(group4), len(group5), len(group6)]\n",
    "\n",
    "conjunto_edades = {'Edad':age_groups,'Usuarias totales':group_length}\n",
    "df_edades = pd.DataFrame(conjunto_edades)\n",
    "\n",
    "plt.figure(figsize=(10, 6))\n",
    "sns.barplot(x='Edad', y='Usuarias totales', palette=\"rocket\", data=df_edades)"
   ]
  },
  {
   "cell_type": "markdown",
   "metadata": {},
   "source": [
    "Ahora, revisaremos cuántos departamentos y tipos de prenda hay"
   ]
  },
  {
   "cell_type": "code",
   "execution_count": 7,
   "metadata": {},
   "outputs": [
    {
     "data": {
      "text/plain": [
       "'En total hay 7 departamentos y 21 tipos distintos de prenda'"
      ]
     },
     "execution_count": 7,
     "metadata": {},
     "output_type": "execute_result"
    }
   ],
   "source": [
    "\"En total hay \" + str(len(df[\"Department Name\"].unique())) + \" departamentos y \" + str(len(df[\"Class Name\"].unique())) + \" tipos distintos de prenda\""
   ]
  },
  {
   "cell_type": "markdown",
   "metadata": {},
   "source": [
    "Ahora vamos a analizar las palabras más utilizadas. Para esto, utilizaremos la columna de opiniones escritas, por lo que necesitamos deshacernos de todas las filas que contengan valores nulos. Al tener solamente 3% de valores nulos, no afecta en gran medida el tamaño de la dataframe"
   ]
  },
  {
   "cell_type": "code",
   "execution_count": 8,
   "metadata": {},
   "outputs": [
    {
     "data": {
      "text/plain": [
       "Unnamed: 0                  0.000000\n",
       "Clothing ID                 0.000000\n",
       "Age                         0.000000\n",
       "Title                      12.628800\n",
       "Review Text                 0.000000\n",
       "Rating                      0.000000\n",
       "Recommended IND             0.000000\n",
       "Positive Feedback Count     0.000000\n",
       "Division Name               0.055352\n",
       "Department Name             0.055352\n",
       "Class Name                  0.055352\n",
       "dtype: float64"
      ]
     },
     "execution_count": 8,
     "metadata": {},
     "output_type": "execute_result"
    }
   ],
   "source": [
    "df_clean = df[df['Review Text'].notna()]\n",
    "(df_clean.isnull().sum()/len(df)) * 100"
   ]
  },
  {
   "cell_type": "markdown",
   "metadata": {},
   "source": [
    "Para analizar las palabras más utilizadas, primero tenemos que quitar las palabras más comunes que se repiten frecuentemente en el idioma. Se importa una plataforma que descarga una lista con las palabras que más se repiten en el idioma inglés"
   ]
  },
  {
   "cell_type": "code",
   "execution_count": 128,
   "metadata": {},
   "outputs": [
    {
     "name": "stderr",
     "output_type": "stream",
     "text": [
      "[nltk_data] Downloading package stopwords to /home/karen/nltk_data...\n",
      "[nltk_data]   Package stopwords is already up-to-date!\n"
     ]
    },
    {
     "data": {
      "text/plain": [
       "True"
      ]
     },
     "execution_count": 128,
     "metadata": {},
     "output_type": "execute_result"
    }
   ],
   "source": [
    "import nltk\n",
    "nltk.download('stopwords')"
   ]
  },
  {
   "cell_type": "code",
   "execution_count": 129,
   "metadata": {},
   "outputs": [],
   "source": [
    "from nltk.corpus import stopwords\n",
    "stop = stopwords.words('english')\n",
    "stop.append(\"This\")\n",
    "stop.append(\"I\")\n",
    "stop.append(\"i'm\")\n",
    "stop.append(\"-\")\n",
    "stop.append(\"it.\")\n",
    "stop.append(\"on.\")\n",
    "stop.append(\"can't\")\n",
    "stop.append(\"another\")\n",
    "stop.append(\"however\")"
   ]
  },
  {
   "cell_type": "markdown",
   "metadata": {},
   "source": [
    "Obtenemos una lista con las 70 palabras más repetidas en las opiniones"
   ]
  },
  {
   "cell_type": "code",
   "execution_count": 130,
   "metadata": {},
   "outputs": [],
   "source": [
    "from collections import Counter\n",
    "common_words = Counter(\" \".join(df_clean[\"Review Text\"]).split()).most_common(200)"
   ]
  },
  {
   "cell_type": "markdown",
   "metadata": {},
   "source": [
    "Hacemos un nuevo dataframe con la lista de palabras para poder utilizarla"
   ]
  },
  {
   "cell_type": "code",
   "execution_count": 131,
   "metadata": {},
   "outputs": [],
   "source": [
    "opiniones = pd.DataFrame(common_words)"
   ]
  },
  {
   "cell_type": "markdown",
   "metadata": {},
   "source": [
    "Removemos las palabras de la lista de más utilizadas de nuestro dataframe y regresamos la primera columna, que contiene las palabras en forma de texto"
   ]
  },
  {
   "cell_type": "code",
   "execution_count": 132,
   "metadata": {},
   "outputs": [
    {
     "data": {
      "text/plain": [
       "['dress',\n",
       " 'love',\n",
       " 'size',\n",
       " 'like',\n",
       " 'wear',\n",
       " 'fit',\n",
       " 'top',\n",
       " 'would',\n",
       " 'great',\n",
       " 'really',\n",
       " 'fabric',\n",
       " 'little',\n",
       " 'ordered',\n",
       " 'look',\n",
       " 'color',\n",
       " 'small',\n",
       " 'one',\n",
       " 'bought',\n",
       " 'looks',\n",
       " 'fits',\n",
       " 'bit',\n",
       " 'perfect',\n",
       " 'nice',\n",
       " 'much',\n",
       " 'got',\n",
       " 'soft',\n",
       " 'material',\n",
       " 'also',\n",
       " 'think',\n",
       " 'even',\n",
       " 'back',\n",
       " 'cute',\n",
       " 'tried',\n",
       " 'well',\n",
       " 'usually',\n",
       " 'length',\n",
       " 'flattering',\n",
       " 'me.',\n",
       " 'shirt',\n",
       " 'get',\n",
       " 'beautiful',\n",
       " 'could',\n",
       " 'long',\n",
       " 'petite',\n",
       " 'sweater',\n",
       " 'still',\n",
       " 'large',\n",
       " 'good',\n",
       " 'colors',\n",
       " 'comfortable',\n",
       " 'medium',\n",
       " 'runs',\n",
       " 'true',\n",
       " 'pretty',\n",
       " 'retailer',\n",
       " 'super',\n",
       " 'quality',\n",
       " 'xs',\n",
       " 'work',\n",
       " 'see',\n",
       " 'wearing',\n",
       " 'way',\n",
       " 'made',\n",
       " 'dress.',\n",
       " 'waist',\n",
       " 'cut',\n",
       " 'purchased',\n",
       " 'skirt',\n",
       " 'right',\n",
       " 'black',\n",
       " 'jeans',\n",
       " 'feel',\n",
       " 'definitely',\n",
       " 'short',\n",
       " 'store',\n",
       " 'looked',\n",
       " 'enough',\n",
       " 'sleeves',\n",
       " 'go',\n",
       " 'top.',\n",
       " 'pants',\n",
       " 'white',\n",
       " 'going',\n",
       " 'size.',\n",
       " 'loved',\n",
       " 'big',\n",
       " 'worn',\n",
       " 'many',\n",
       " 'The',\n",
       " 'design',\n",
       " 'make',\n",
       " 'try',\n",
       " 'style',\n",
       " 'Love',\n",
       " 'around',\n",
       " 'thought',\n",
       " 'regular',\n",
       " 'makes',\n",
       " 'tight',\n",
       " 'front',\n",
       " 'saw',\n",
       " 'wanted',\n",
       " 'flattering.',\n",
       " 'looking',\n",
       " 'however,',\n",
       " 'first',\n",
       " 'without',\n",
       " 'blue',\n",
       " 'need',\n",
       " 'online',\n",
       " 'went',\n",
       " 'run',\n",
       " 'small.',\n",
       " 'better',\n",
       " 'found',\n",
       " 'want',\n",
       " 'summer',\n",
       " 'high',\n",
       " 'it!',\n",
       " 'wore',\n",
       " '&',\n",
       " 'light']"
      ]
     },
     "execution_count": 132,
     "metadata": {},
     "output_type": "execute_result"
    }
   ],
   "source": [
    "palabras_comunes1 = opiniones.apply(lambda x: [item for item in x if item not in stop])\n",
    "palabras_comunes1[0]"
   ]
  },
  {
   "cell_type": "markdown",
   "metadata": {},
   "source": [
    "## Análisis por edades"
   ]
  },
  {
   "cell_type": "code",
   "execution_count": 270,
   "metadata": {},
   "outputs": [
    {
     "data": {
      "text/plain": [
       "'La edad promedio de las usuarias del sitio es de 43.198543813335604'"
      ]
     },
     "execution_count": 270,
     "metadata": {},
     "output_type": "execute_result"
    }
   ],
   "source": [
    "\"La edad promedio de las usuarias del sitio es de \" + str(df[\"Age\"].mean())"
   ]
  },
  {
   "cell_type": "markdown",
   "metadata": {},
   "source": [
    "### Mujeres de 18 a 29 años"
   ]
  },
  {
   "cell_type": "code",
   "execution_count": 14,
   "metadata": {},
   "outputs": [
    {
     "data": {
      "text/plain": [
       "'Se trabajará con 2931 opiniones de mujeres de 18 a 29 años.'"
      ]
     },
     "execution_count": 14,
     "metadata": {},
     "output_type": "execute_result"
    }
   ],
   "source": [
    "\"Se trabajará con \" + str(len(group1)) + \" opiniones de mujeres de 18 a 29 años.\""
   ]
  },
  {
   "cell_type": "code",
   "execution_count": 15,
   "metadata": {},
   "outputs": [
    {
     "data": {
      "text/html": [
       "<div>\n",
       "<style scoped>\n",
       "    .dataframe tbody tr th:only-of-type {\n",
       "        vertical-align: middle;\n",
       "    }\n",
       "\n",
       "    .dataframe tbody tr th {\n",
       "        vertical-align: top;\n",
       "    }\n",
       "\n",
       "    .dataframe thead th {\n",
       "        text-align: right;\n",
       "    }\n",
       "</style>\n",
       "<table border=\"1\" class=\"dataframe\">\n",
       "  <thead>\n",
       "    <tr style=\"text-align: right;\">\n",
       "      <th></th>\n",
       "      <th>Unnamed: 0</th>\n",
       "      <th>Clothing ID</th>\n",
       "      <th>Age</th>\n",
       "      <th>Title</th>\n",
       "      <th>Review Text</th>\n",
       "      <th>Rating</th>\n",
       "      <th>Recommended IND</th>\n",
       "      <th>Positive Feedback Count</th>\n",
       "      <th>Division Name</th>\n",
       "      <th>Department Name</th>\n",
       "      <th>Class Name</th>\n",
       "    </tr>\n",
       "  </thead>\n",
       "  <tbody>\n",
       "    <tr>\n",
       "      <th>8</th>\n",
       "      <td>8</td>\n",
       "      <td>1077</td>\n",
       "      <td>24</td>\n",
       "      <td>Flattering</td>\n",
       "      <td>I love this dress. i usually get an xs but it ...</td>\n",
       "      <td>5</td>\n",
       "      <td>1</td>\n",
       "      <td>0</td>\n",
       "      <td>General</td>\n",
       "      <td>Dresses</td>\n",
       "      <td>Dresses</td>\n",
       "    </tr>\n",
       "    <tr>\n",
       "      <th>29</th>\n",
       "      <td>29</td>\n",
       "      <td>4</td>\n",
       "      <td>28</td>\n",
       "      <td>Great layering piece</td>\n",
       "      <td>This sweater is so comfy and classic - it bala...</td>\n",
       "      <td>5</td>\n",
       "      <td>1</td>\n",
       "      <td>0</td>\n",
       "      <td>General</td>\n",
       "      <td>Tops</td>\n",
       "      <td>Sweaters</td>\n",
       "    </tr>\n",
       "    <tr>\n",
       "      <th>32</th>\n",
       "      <td>32</td>\n",
       "      <td>1060</td>\n",
       "      <td>21</td>\n",
       "      <td>Love these pants</td>\n",
       "      <td>These pants are even better in person. the onl...</td>\n",
       "      <td>5</td>\n",
       "      <td>1</td>\n",
       "      <td>0</td>\n",
       "      <td>General Petite</td>\n",
       "      <td>Bottoms</td>\n",
       "      <td>Pants</td>\n",
       "    </tr>\n",
       "    <tr>\n",
       "      <th>36</th>\n",
       "      <td>36</td>\n",
       "      <td>1002</td>\n",
       "      <td>29</td>\n",
       "      <td>NaN</td>\n",
       "      <td>This is a comfortable skirt that can span seas...</td>\n",
       "      <td>4</td>\n",
       "      <td>1</td>\n",
       "      <td>5</td>\n",
       "      <td>General</td>\n",
       "      <td>Bottoms</td>\n",
       "      <td>Skirts</td>\n",
       "    </tr>\n",
       "    <tr>\n",
       "      <th>42</th>\n",
       "      <td>42</td>\n",
       "      <td>910</td>\n",
       "      <td>23</td>\n",
       "      <td>Soft &amp; lovely</td>\n",
       "      <td>This poncho is so cute i love the plaid check ...</td>\n",
       "      <td>5</td>\n",
       "      <td>1</td>\n",
       "      <td>0</td>\n",
       "      <td>General</td>\n",
       "      <td>Tops</td>\n",
       "      <td>Fine gauge</td>\n",
       "    </tr>\n",
       "  </tbody>\n",
       "</table>\n",
       "</div>"
      ],
      "text/plain": [
       "    Unnamed: 0  Clothing ID  Age                 Title  \\\n",
       "8            8         1077   24            Flattering   \n",
       "29          29            4   28  Great layering piece   \n",
       "32          32         1060   21      Love these pants   \n",
       "36          36         1002   29                   NaN   \n",
       "42          42          910   23         Soft & lovely   \n",
       "\n",
       "                                          Review Text  Rating  \\\n",
       "8   I love this dress. i usually get an xs but it ...       5   \n",
       "29  This sweater is so comfy and classic - it bala...       5   \n",
       "32  These pants are even better in person. the onl...       5   \n",
       "36  This is a comfortable skirt that can span seas...       4   \n",
       "42  This poncho is so cute i love the plaid check ...       5   \n",
       "\n",
       "    Recommended IND  Positive Feedback Count   Division Name Department Name  \\\n",
       "8                 1                        0         General         Dresses   \n",
       "29                1                        0         General            Tops   \n",
       "32                1                        0  General Petite         Bottoms   \n",
       "36                1                        5         General         Bottoms   \n",
       "42                1                        0         General            Tops   \n",
       "\n",
       "    Class Name  \n",
       "8      Dresses  \n",
       "29    Sweaters  \n",
       "32       Pants  \n",
       "36      Skirts  \n",
       "42  Fine gauge  "
      ]
     },
     "execution_count": 15,
     "metadata": {},
     "output_type": "execute_result"
    }
   ],
   "source": [
    "group1.head()"
   ]
  },
  {
   "cell_type": "code",
   "execution_count": 40,
   "metadata": {},
   "outputs": [
    {
     "data": {
      "text/plain": [
       "'La calificación media de este grupo de edad es de 4.201637666325486'"
      ]
     },
     "execution_count": 40,
     "metadata": {},
     "output_type": "execute_result"
    }
   ],
   "source": [
    "\"La calificación media de este grupo de edad es de \" + str(group1[\"Rating\"].mean())"
   ]
  },
  {
   "cell_type": "code",
   "execution_count": 133,
   "metadata": {},
   "outputs": [],
   "source": [
    "group1_clean = group1[group1['Review Text'].notna()]\n",
    "common_words1 = Counter(\" \".join(group1_clean[\"Review Text\"]).split()).most_common(200)\n",
    "opiniones1 = pd.DataFrame(common_words1)\n",
    "review_words1 = opiniones1.apply(lambda x: [item for item in x if item not in stop])\n",
    "review_words1 = review_words1[0]"
   ]
  },
  {
   "cell_type": "code",
   "execution_count": null,
   "metadata": {},
   "outputs": [],
   "source": []
  },
  {
   "cell_type": "code",
   "execution_count": 151,
   "metadata": {},
   "outputs": [
    {
     "data": {
      "text/plain": [
       "1    81.746844\n",
       "0    18.253156\n",
       "Name: Recommended IND, dtype: float64"
      ]
     },
     "execution_count": 151,
     "metadata": {},
     "output_type": "execute_result"
    }
   ],
   "source": [
    "group1[\"Recommended IND\"].value_counts()/len(group1[\"Recommended IND\"]) * 100"
   ]
  },
  {
   "cell_type": "code",
   "execution_count": null,
   "metadata": {},
   "outputs": [],
   "source": []
  },
  {
   "cell_type": "code",
   "execution_count": null,
   "metadata": {},
   "outputs": [],
   "source": []
  },
  {
   "cell_type": "markdown",
   "metadata": {},
   "source": [
    "### Mujeres de 30 a 39 años"
   ]
  },
  {
   "cell_type": "code",
   "execution_count": 32,
   "metadata": {},
   "outputs": [
    {
     "data": {
      "text/plain": [
       "'Se trabajará con 7702 opiniones de mujeres de 30 a 39 años.'"
      ]
     },
     "execution_count": 32,
     "metadata": {},
     "output_type": "execute_result"
    }
   ],
   "source": [
    "\"Se trabajará con \" + str(len(group2)) + \" opiniones de mujeres de 30 a 39 años.\""
   ]
  },
  {
   "cell_type": "code",
   "execution_count": 28,
   "metadata": {},
   "outputs": [
    {
     "data": {
      "text/html": [
       "<div>\n",
       "<style scoped>\n",
       "    .dataframe tbody tr th:only-of-type {\n",
       "        vertical-align: middle;\n",
       "    }\n",
       "\n",
       "    .dataframe tbody tr th {\n",
       "        vertical-align: top;\n",
       "    }\n",
       "\n",
       "    .dataframe thead th {\n",
       "        text-align: right;\n",
       "    }\n",
       "</style>\n",
       "<table border=\"1\" class=\"dataframe\">\n",
       "  <thead>\n",
       "    <tr style=\"text-align: right;\">\n",
       "      <th></th>\n",
       "      <th>Unnamed: 0</th>\n",
       "      <th>Clothing ID</th>\n",
       "      <th>Age</th>\n",
       "      <th>Title</th>\n",
       "      <th>Review Text</th>\n",
       "      <th>Rating</th>\n",
       "      <th>Recommended IND</th>\n",
       "      <th>Positive Feedback Count</th>\n",
       "      <th>Division Name</th>\n",
       "      <th>Department Name</th>\n",
       "      <th>Class Name</th>\n",
       "    </tr>\n",
       "  </thead>\n",
       "  <tbody>\n",
       "    <tr>\n",
       "      <th>0</th>\n",
       "      <td>0</td>\n",
       "      <td>767</td>\n",
       "      <td>33</td>\n",
       "      <td>NaN</td>\n",
       "      <td>Absolutely wonderful - silky and sexy and comf...</td>\n",
       "      <td>4</td>\n",
       "      <td>1</td>\n",
       "      <td>0</td>\n",
       "      <td>Initmates</td>\n",
       "      <td>Intimate</td>\n",
       "      <td>Intimates</td>\n",
       "    </tr>\n",
       "    <tr>\n",
       "      <th>1</th>\n",
       "      <td>1</td>\n",
       "      <td>1080</td>\n",
       "      <td>34</td>\n",
       "      <td>NaN</td>\n",
       "      <td>Love this dress!  it's sooo pretty.  i happene...</td>\n",
       "      <td>5</td>\n",
       "      <td>1</td>\n",
       "      <td>4</td>\n",
       "      <td>General</td>\n",
       "      <td>Dresses</td>\n",
       "      <td>Dresses</td>\n",
       "    </tr>\n",
       "    <tr>\n",
       "      <th>6</th>\n",
       "      <td>6</td>\n",
       "      <td>858</td>\n",
       "      <td>39</td>\n",
       "      <td>Cagrcoal shimmer fun</td>\n",
       "      <td>I aded this in my basket at hte last mintue to...</td>\n",
       "      <td>5</td>\n",
       "      <td>1</td>\n",
       "      <td>1</td>\n",
       "      <td>General Petite</td>\n",
       "      <td>Tops</td>\n",
       "      <td>Knits</td>\n",
       "    </tr>\n",
       "    <tr>\n",
       "      <th>7</th>\n",
       "      <td>7</td>\n",
       "      <td>858</td>\n",
       "      <td>39</td>\n",
       "      <td>Shimmer, surprisingly goes with lots</td>\n",
       "      <td>I ordered this in carbon for store pick up, an...</td>\n",
       "      <td>4</td>\n",
       "      <td>1</td>\n",
       "      <td>4</td>\n",
       "      <td>General Petite</td>\n",
       "      <td>Tops</td>\n",
       "      <td>Knits</td>\n",
       "    </tr>\n",
       "    <tr>\n",
       "      <th>9</th>\n",
       "      <td>9</td>\n",
       "      <td>1077</td>\n",
       "      <td>34</td>\n",
       "      <td>Such a fun dress!</td>\n",
       "      <td>I'm 5\"5' and 125 lbs. i ordered the s petite t...</td>\n",
       "      <td>5</td>\n",
       "      <td>1</td>\n",
       "      <td>0</td>\n",
       "      <td>General</td>\n",
       "      <td>Dresses</td>\n",
       "      <td>Dresses</td>\n",
       "    </tr>\n",
       "  </tbody>\n",
       "</table>\n",
       "</div>"
      ],
      "text/plain": [
       "   Unnamed: 0  Clothing ID  Age                                 Title  \\\n",
       "0           0          767   33                                   NaN   \n",
       "1           1         1080   34                                   NaN   \n",
       "6           6          858   39                  Cagrcoal shimmer fun   \n",
       "7           7          858   39  Shimmer, surprisingly goes with lots   \n",
       "9           9         1077   34                     Such a fun dress!   \n",
       "\n",
       "                                         Review Text  Rating  Recommended IND  \\\n",
       "0  Absolutely wonderful - silky and sexy and comf...       4                1   \n",
       "1  Love this dress!  it's sooo pretty.  i happene...       5                1   \n",
       "6  I aded this in my basket at hte last mintue to...       5                1   \n",
       "7  I ordered this in carbon for store pick up, an...       4                1   \n",
       "9  I'm 5\"5' and 125 lbs. i ordered the s petite t...       5                1   \n",
       "\n",
       "   Positive Feedback Count   Division Name Department Name Class Name  \n",
       "0                        0       Initmates        Intimate  Intimates  \n",
       "1                        4         General         Dresses    Dresses  \n",
       "6                        1  General Petite            Tops      Knits  \n",
       "7                        4  General Petite            Tops      Knits  \n",
       "9                        0         General         Dresses    Dresses  "
      ]
     },
     "execution_count": 28,
     "metadata": {},
     "output_type": "execute_result"
    }
   ],
   "source": [
    "group2.head()"
   ]
  },
  {
   "cell_type": "code",
   "execution_count": 41,
   "metadata": {},
   "outputs": [
    {
     "data": {
      "text/plain": [
       "'La calificación media de este grupo de edad es de 4.17047520124643'"
      ]
     },
     "execution_count": 41,
     "metadata": {},
     "output_type": "execute_result"
    }
   ],
   "source": [
    "\"La calificación media de este grupo de edad es de \" + str(group2[\"Rating\"].mean())"
   ]
  },
  {
   "cell_type": "code",
   "execution_count": 134,
   "metadata": {},
   "outputs": [],
   "source": [
    "group2_clean = group2[group2['Review Text'].notna()]\n",
    "common_words2 = Counter(\" \".join(group2_clean[\"Review Text\"]).split()).most_common(200)\n",
    "opiniones2 = pd.DataFrame(common_words2)\n",
    "review_words2 = opiniones2.apply(lambda x: [item for item in x if item not in stop])\n",
    "review_words2 = review_words2[0]"
   ]
  },
  {
   "cell_type": "code",
   "execution_count": null,
   "metadata": {},
   "outputs": [],
   "source": []
  },
  {
   "cell_type": "code",
   "execution_count": 152,
   "metadata": {},
   "outputs": [
    {
     "data": {
      "text/plain": [
       "1    81.355492\n",
       "0    18.644508\n",
       "Name: Recommended IND, dtype: float64"
      ]
     },
     "execution_count": 152,
     "metadata": {},
     "output_type": "execute_result"
    }
   ],
   "source": [
    "group2[\"Recommended IND\"].value_counts()/len(group2[\"Recommended IND\"]) * 100"
   ]
  },
  {
   "cell_type": "code",
   "execution_count": null,
   "metadata": {},
   "outputs": [],
   "source": []
  },
  {
   "cell_type": "markdown",
   "metadata": {},
   "source": [
    "### Mujeres de 40 a 49 años"
   ]
  },
  {
   "cell_type": "code",
   "execution_count": 35,
   "metadata": {},
   "outputs": [
    {
     "data": {
      "text/plain": [
       "'Se trabajará con 6127 opiniones de mujeres de 40 a 49 años.'"
      ]
     },
     "execution_count": 35,
     "metadata": {},
     "output_type": "execute_result"
    }
   ],
   "source": [
    "\"Se trabajará con \" + str(len(group3)) + \" opiniones de mujeres de 40 a 49 años.\""
   ]
  },
  {
   "cell_type": "code",
   "execution_count": 42,
   "metadata": {},
   "outputs": [
    {
     "data": {
      "text/html": [
       "<div>\n",
       "<style scoped>\n",
       "    .dataframe tbody tr th:only-of-type {\n",
       "        vertical-align: middle;\n",
       "    }\n",
       "\n",
       "    .dataframe tbody tr th {\n",
       "        vertical-align: top;\n",
       "    }\n",
       "\n",
       "    .dataframe thead th {\n",
       "        text-align: right;\n",
       "    }\n",
       "</style>\n",
       "<table border=\"1\" class=\"dataframe\">\n",
       "  <thead>\n",
       "    <tr style=\"text-align: right;\">\n",
       "      <th></th>\n",
       "      <th>Unnamed: 0</th>\n",
       "      <th>Clothing ID</th>\n",
       "      <th>Age</th>\n",
       "      <th>Title</th>\n",
       "      <th>Review Text</th>\n",
       "      <th>Rating</th>\n",
       "      <th>Recommended IND</th>\n",
       "      <th>Positive Feedback Count</th>\n",
       "      <th>Division Name</th>\n",
       "      <th>Department Name</th>\n",
       "      <th>Class Name</th>\n",
       "    </tr>\n",
       "  </thead>\n",
       "  <tbody>\n",
       "    <tr>\n",
       "      <th>4</th>\n",
       "      <td>4</td>\n",
       "      <td>847</td>\n",
       "      <td>47</td>\n",
       "      <td>Flattering shirt</td>\n",
       "      <td>This shirt is very flattering to all due to th...</td>\n",
       "      <td>5</td>\n",
       "      <td>1</td>\n",
       "      <td>6</td>\n",
       "      <td>General</td>\n",
       "      <td>Tops</td>\n",
       "      <td>Blouses</td>\n",
       "    </tr>\n",
       "    <tr>\n",
       "      <th>5</th>\n",
       "      <td>5</td>\n",
       "      <td>1080</td>\n",
       "      <td>49</td>\n",
       "      <td>Not for the very petite</td>\n",
       "      <td>I love tracy reese dresses, but this one is no...</td>\n",
       "      <td>2</td>\n",
       "      <td>0</td>\n",
       "      <td>4</td>\n",
       "      <td>General</td>\n",
       "      <td>Dresses</td>\n",
       "      <td>Dresses</td>\n",
       "    </tr>\n",
       "    <tr>\n",
       "      <th>13</th>\n",
       "      <td>13</td>\n",
       "      <td>767</td>\n",
       "      <td>44</td>\n",
       "      <td>Runs big</td>\n",
       "      <td>Bought the black xs to go under the larkspur m...</td>\n",
       "      <td>5</td>\n",
       "      <td>1</td>\n",
       "      <td>0</td>\n",
       "      <td>Initmates</td>\n",
       "      <td>Intimate</td>\n",
       "      <td>Intimates</td>\n",
       "    </tr>\n",
       "    <tr>\n",
       "      <th>15</th>\n",
       "      <td>15</td>\n",
       "      <td>1065</td>\n",
       "      <td>47</td>\n",
       "      <td>Nice, but not for my body</td>\n",
       "      <td>I took these out of the package and wanted the...</td>\n",
       "      <td>4</td>\n",
       "      <td>1</td>\n",
       "      <td>3</td>\n",
       "      <td>General</td>\n",
       "      <td>Bottoms</td>\n",
       "      <td>Pants</td>\n",
       "    </tr>\n",
       "    <tr>\n",
       "      <th>17</th>\n",
       "      <td>17</td>\n",
       "      <td>853</td>\n",
       "      <td>41</td>\n",
       "      <td>Looks great with white pants</td>\n",
       "      <td>Took a chance on this blouse and so glad i did...</td>\n",
       "      <td>5</td>\n",
       "      <td>1</td>\n",
       "      <td>0</td>\n",
       "      <td>General</td>\n",
       "      <td>Tops</td>\n",
       "      <td>Blouses</td>\n",
       "    </tr>\n",
       "  </tbody>\n",
       "</table>\n",
       "</div>"
      ],
      "text/plain": [
       "    Unnamed: 0  Clothing ID  Age                         Title  \\\n",
       "4            4          847   47              Flattering shirt   \n",
       "5            5         1080   49       Not for the very petite   \n",
       "13          13          767   44                      Runs big   \n",
       "15          15         1065   47     Nice, but not for my body   \n",
       "17          17          853   41  Looks great with white pants   \n",
       "\n",
       "                                          Review Text  Rating  \\\n",
       "4   This shirt is very flattering to all due to th...       5   \n",
       "5   I love tracy reese dresses, but this one is no...       2   \n",
       "13  Bought the black xs to go under the larkspur m...       5   \n",
       "15  I took these out of the package and wanted the...       4   \n",
       "17  Took a chance on this blouse and so glad i did...       5   \n",
       "\n",
       "    Recommended IND  Positive Feedback Count Division Name Department Name  \\\n",
       "4                 1                        6       General            Tops   \n",
       "5                 0                        4       General         Dresses   \n",
       "13                1                        0     Initmates        Intimate   \n",
       "15                1                        3       General         Bottoms   \n",
       "17                1                        0       General            Tops   \n",
       "\n",
       "   Class Name  \n",
       "4     Blouses  \n",
       "5     Dresses  \n",
       "13  Intimates  \n",
       "15      Pants  \n",
       "17    Blouses  "
      ]
     },
     "execution_count": 42,
     "metadata": {},
     "output_type": "execute_result"
    }
   ],
   "source": [
    "group3.head()"
   ]
  },
  {
   "cell_type": "code",
   "execution_count": 43,
   "metadata": {},
   "outputs": [
    {
     "data": {
      "text/plain": [
       "'La calificación media de este grupo de edad es de 4.158315652031989'"
      ]
     },
     "execution_count": 43,
     "metadata": {},
     "output_type": "execute_result"
    }
   ],
   "source": [
    "\"La calificación media de este grupo de edad es de \" + str(group3[\"Rating\"].mean())"
   ]
  },
  {
   "cell_type": "code",
   "execution_count": 135,
   "metadata": {},
   "outputs": [],
   "source": [
    "group3_clean = group3[group3['Review Text'].notna()]\n",
    "common_words3 = Counter(\" \".join(group3_clean[\"Review Text\"]).split()).most_common(200)\n",
    "opiniones3 = pd.DataFrame(common_words3)\n",
    "review_words3 = opiniones3.apply(lambda x: [item for item in x if item not in stop])\n",
    "review_words3 = review_words3[0]"
   ]
  },
  {
   "cell_type": "code",
   "execution_count": 19,
   "metadata": {},
   "outputs": [
    {
     "data": {
      "text/plain": [
       "Tops        45.340297\n",
       "Dresses     26.244492\n",
       "Bottoms     17.414722\n",
       "Intimate     6.610087\n",
       "Jackets      3.819161\n",
       "Trend        0.505957\n",
       "Name: Department Name, dtype: float64"
      ]
     },
     "execution_count": 19,
     "metadata": {},
     "output_type": "execute_result"
    }
   ],
   "source": [
    "(group3[\"Department Name\"].value_counts()/len(group3[\"Department Name\"])) * 100"
   ]
  },
  {
   "cell_type": "code",
   "execution_count": 153,
   "metadata": {},
   "outputs": [
    {
     "data": {
      "text/plain": [
       "1    81.24694\n",
       "0    18.75306\n",
       "Name: Recommended IND, dtype: float64"
      ]
     },
     "execution_count": 153,
     "metadata": {},
     "output_type": "execute_result"
    }
   ],
   "source": [
    "group3[\"Recommended IND\"].value_counts()/len(group3[\"Recommended IND\"]) * 100"
   ]
  },
  {
   "cell_type": "code",
   "execution_count": null,
   "metadata": {},
   "outputs": [],
   "source": []
  },
  {
   "cell_type": "markdown",
   "metadata": {},
   "source": [
    "### Mujeres de 50 a 59 años"
   ]
  },
  {
   "cell_type": "code",
   "execution_count": 36,
   "metadata": {},
   "outputs": [
    {
     "data": {
      "text/plain": [
       "'Se trabajará con 3948 opiniones de mujeres de 50 a 59 años.'"
      ]
     },
     "execution_count": 36,
     "metadata": {},
     "output_type": "execute_result"
    }
   ],
   "source": [
    "\"Se trabajará con \" + str(len(group4)) + \" opiniones de mujeres de 50 a 59 años.\""
   ]
  },
  {
   "cell_type": "code",
   "execution_count": 44,
   "metadata": {},
   "outputs": [
    {
     "data": {
      "text/html": [
       "<div>\n",
       "<style scoped>\n",
       "    .dataframe tbody tr th:only-of-type {\n",
       "        vertical-align: middle;\n",
       "    }\n",
       "\n",
       "    .dataframe tbody tr th {\n",
       "        vertical-align: top;\n",
       "    }\n",
       "\n",
       "    .dataframe thead th {\n",
       "        text-align: right;\n",
       "    }\n",
       "</style>\n",
       "<table border=\"1\" class=\"dataframe\">\n",
       "  <thead>\n",
       "    <tr style=\"text-align: right;\">\n",
       "      <th></th>\n",
       "      <th>Unnamed: 0</th>\n",
       "      <th>Clothing ID</th>\n",
       "      <th>Age</th>\n",
       "      <th>Title</th>\n",
       "      <th>Review Text</th>\n",
       "      <th>Rating</th>\n",
       "      <th>Recommended IND</th>\n",
       "      <th>Positive Feedback Count</th>\n",
       "      <th>Division Name</th>\n",
       "      <th>Department Name</th>\n",
       "      <th>Class Name</th>\n",
       "    </tr>\n",
       "  </thead>\n",
       "  <tbody>\n",
       "    <tr>\n",
       "      <th>3</th>\n",
       "      <td>3</td>\n",
       "      <td>1049</td>\n",
       "      <td>50</td>\n",
       "      <td>My favorite buy!</td>\n",
       "      <td>I love, love, love this jumpsuit. it's fun, fl...</td>\n",
       "      <td>5</td>\n",
       "      <td>1</td>\n",
       "      <td>0</td>\n",
       "      <td>General Petite</td>\n",
       "      <td>Bottoms</td>\n",
       "      <td>Pants</td>\n",
       "    </tr>\n",
       "    <tr>\n",
       "      <th>10</th>\n",
       "      <td>10</td>\n",
       "      <td>1077</td>\n",
       "      <td>53</td>\n",
       "      <td>Dress looks like it's made of cheap material</td>\n",
       "      <td>Dress runs small esp where the zipper area run...</td>\n",
       "      <td>3</td>\n",
       "      <td>0</td>\n",
       "      <td>14</td>\n",
       "      <td>General</td>\n",
       "      <td>Dresses</td>\n",
       "      <td>Dresses</td>\n",
       "    </tr>\n",
       "    <tr>\n",
       "      <th>12</th>\n",
       "      <td>12</td>\n",
       "      <td>1095</td>\n",
       "      <td>53</td>\n",
       "      <td>Perfect!!!</td>\n",
       "      <td>More and more i find myself reliant on the rev...</td>\n",
       "      <td>5</td>\n",
       "      <td>1</td>\n",
       "      <td>2</td>\n",
       "      <td>General Petite</td>\n",
       "      <td>Dresses</td>\n",
       "      <td>Dresses</td>\n",
       "    </tr>\n",
       "    <tr>\n",
       "      <th>14</th>\n",
       "      <td>14</td>\n",
       "      <td>1077</td>\n",
       "      <td>50</td>\n",
       "      <td>Pretty party dress with some issues</td>\n",
       "      <td>This is a nice choice for holiday gatherings. ...</td>\n",
       "      <td>3</td>\n",
       "      <td>1</td>\n",
       "      <td>1</td>\n",
       "      <td>General</td>\n",
       "      <td>Dresses</td>\n",
       "      <td>Dresses</td>\n",
       "    </tr>\n",
       "    <tr>\n",
       "      <th>21</th>\n",
       "      <td>21</td>\n",
       "      <td>1080</td>\n",
       "      <td>55</td>\n",
       "      <td>I'm torn!</td>\n",
       "      <td>I'm upset because for the price of the dress, ...</td>\n",
       "      <td>4</td>\n",
       "      <td>1</td>\n",
       "      <td>14</td>\n",
       "      <td>General</td>\n",
       "      <td>Dresses</td>\n",
       "      <td>Dresses</td>\n",
       "    </tr>\n",
       "  </tbody>\n",
       "</table>\n",
       "</div>"
      ],
      "text/plain": [
       "    Unnamed: 0  Clothing ID  Age  \\\n",
       "3            3         1049   50   \n",
       "10          10         1077   53   \n",
       "12          12         1095   53   \n",
       "14          14         1077   50   \n",
       "21          21         1080   55   \n",
       "\n",
       "                                           Title  \\\n",
       "3                               My favorite buy!   \n",
       "10  Dress looks like it's made of cheap material   \n",
       "12                                    Perfect!!!   \n",
       "14           Pretty party dress with some issues   \n",
       "21                                     I'm torn!   \n",
       "\n",
       "                                          Review Text  Rating  \\\n",
       "3   I love, love, love this jumpsuit. it's fun, fl...       5   \n",
       "10  Dress runs small esp where the zipper area run...       3   \n",
       "12  More and more i find myself reliant on the rev...       5   \n",
       "14  This is a nice choice for holiday gatherings. ...       3   \n",
       "21  I'm upset because for the price of the dress, ...       4   \n",
       "\n",
       "    Recommended IND  Positive Feedback Count   Division Name Department Name  \\\n",
       "3                 1                        0  General Petite         Bottoms   \n",
       "10                0                       14         General         Dresses   \n",
       "12                1                        2  General Petite         Dresses   \n",
       "14                1                        1         General         Dresses   \n",
       "21                1                       14         General         Dresses   \n",
       "\n",
       "   Class Name  \n",
       "3       Pants  \n",
       "10    Dresses  \n",
       "12    Dresses  \n",
       "14    Dresses  \n",
       "21    Dresses  "
      ]
     },
     "execution_count": 44,
     "metadata": {},
     "output_type": "execute_result"
    }
   ],
   "source": [
    "group4.head()"
   ]
  },
  {
   "cell_type": "code",
   "execution_count": 66,
   "metadata": {},
   "outputs": [
    {
     "data": {
      "text/plain": [
       "'La calificación media de este grupo de edad es de 4.23581560283688'"
      ]
     },
     "execution_count": 66,
     "metadata": {},
     "output_type": "execute_result"
    }
   ],
   "source": [
    "\"La calificación media de este grupo de edad es de \" + str(group4[\"Rating\"].mean())"
   ]
  },
  {
   "cell_type": "code",
   "execution_count": 136,
   "metadata": {},
   "outputs": [],
   "source": [
    "group4_clean = group4[group4['Review Text'].notna()]\n",
    "common_words4 = Counter(\" \".join(group4_clean[\"Review Text\"]).split()).most_common(200)\n",
    "opiniones4 = pd.DataFrame(common_words4)\n",
    "review_words4 = opiniones4.apply(lambda x: [item for item in x if item not in stop])\n",
    "review_words4 = review_words4[0]"
   ]
  },
  {
   "cell_type": "code",
   "execution_count": 20,
   "metadata": {},
   "outputs": [
    {
     "data": {
      "text/plain": [
       "Tops        47.847011\n",
       "Dresses     24.721378\n",
       "Bottoms     16.337386\n",
       "Intimate     5.800405\n",
       "Jackets      4.609929\n",
       "Trend        0.633232\n",
       "Name: Department Name, dtype: float64"
      ]
     },
     "execution_count": 20,
     "metadata": {},
     "output_type": "execute_result"
    }
   ],
   "source": [
    "(group4[\"Department Name\"].value_counts()/len(group4[\"Department Name\"])) * 100"
   ]
  },
  {
   "cell_type": "code",
   "execution_count": 154,
   "metadata": {},
   "outputs": [
    {
     "data": {
      "text/plain": [
       "1    83.763931\n",
       "0    16.236069\n",
       "Name: Recommended IND, dtype: float64"
      ]
     },
     "execution_count": 154,
     "metadata": {},
     "output_type": "execute_result"
    }
   ],
   "source": [
    "group4[\"Recommended IND\"].value_counts()/len(group4[\"Recommended IND\"]) * 100"
   ]
  },
  {
   "cell_type": "code",
   "execution_count": null,
   "metadata": {},
   "outputs": [],
   "source": []
  },
  {
   "cell_type": "markdown",
   "metadata": {},
   "source": [
    "### Mujeres de 60 a 60 años"
   ]
  },
  {
   "cell_type": "code",
   "execution_count": 37,
   "metadata": {},
   "outputs": [
    {
     "data": {
      "text/plain": [
       "'Se trabajará con 2305 opiniones de mujeres de 60 a 69 años.'"
      ]
     },
     "execution_count": 37,
     "metadata": {},
     "output_type": "execute_result"
    }
   ],
   "source": [
    "\"Se trabajará con \" + str(len(group5)) + \" opiniones de mujeres de 60 a 69 años.\""
   ]
  },
  {
   "cell_type": "code",
   "execution_count": 46,
   "metadata": {},
   "outputs": [
    {
     "data": {
      "text/html": [
       "<div>\n",
       "<style scoped>\n",
       "    .dataframe tbody tr th:only-of-type {\n",
       "        vertical-align: middle;\n",
       "    }\n",
       "\n",
       "    .dataframe tbody tr th {\n",
       "        vertical-align: top;\n",
       "    }\n",
       "\n",
       "    .dataframe thead th {\n",
       "        text-align: right;\n",
       "    }\n",
       "</style>\n",
       "<table border=\"1\" class=\"dataframe\">\n",
       "  <thead>\n",
       "    <tr style=\"text-align: right;\">\n",
       "      <th></th>\n",
       "      <th>Unnamed: 0</th>\n",
       "      <th>Clothing ID</th>\n",
       "      <th>Age</th>\n",
       "      <th>Title</th>\n",
       "      <th>Review Text</th>\n",
       "      <th>Rating</th>\n",
       "      <th>Recommended IND</th>\n",
       "      <th>Positive Feedback Count</th>\n",
       "      <th>Division Name</th>\n",
       "      <th>Department Name</th>\n",
       "      <th>Class Name</th>\n",
       "    </tr>\n",
       "  </thead>\n",
       "  <tbody>\n",
       "    <tr>\n",
       "      <th>2</th>\n",
       "      <td>2</td>\n",
       "      <td>1077</td>\n",
       "      <td>60</td>\n",
       "      <td>Some major design flaws</td>\n",
       "      <td>I had such high hopes for this dress and reall...</td>\n",
       "      <td>3</td>\n",
       "      <td>0</td>\n",
       "      <td>0</td>\n",
       "      <td>General</td>\n",
       "      <td>Dresses</td>\n",
       "      <td>Dresses</td>\n",
       "    </tr>\n",
       "    <tr>\n",
       "      <th>35</th>\n",
       "      <td>35</td>\n",
       "      <td>1060</td>\n",
       "      <td>65</td>\n",
       "      <td>Lovely!</td>\n",
       "      <td>Wouldn't have given them a second look but tri...</td>\n",
       "      <td>4</td>\n",
       "      <td>1</td>\n",
       "      <td>3</td>\n",
       "      <td>General Petite</td>\n",
       "      <td>Bottoms</td>\n",
       "      <td>Pants</td>\n",
       "    </tr>\n",
       "    <tr>\n",
       "      <th>43</th>\n",
       "      <td>43</td>\n",
       "      <td>89</td>\n",
       "      <td>67</td>\n",
       "      <td>Some things you should know...</td>\n",
       "      <td>First, this is thermal ,so naturally i didn't ...</td>\n",
       "      <td>4</td>\n",
       "      <td>1</td>\n",
       "      <td>1</td>\n",
       "      <td>Initmates</td>\n",
       "      <td>Intimate</td>\n",
       "      <td>Sleep</td>\n",
       "    </tr>\n",
       "    <tr>\n",
       "      <th>54</th>\n",
       "      <td>54</td>\n",
       "      <td>862</td>\n",
       "      <td>66</td>\n",
       "      <td>Cute top</td>\n",
       "      <td>Nice top. armholes are a bit oversized but as ...</td>\n",
       "      <td>4</td>\n",
       "      <td>1</td>\n",
       "      <td>2</td>\n",
       "      <td>General</td>\n",
       "      <td>Tops</td>\n",
       "      <td>Knits</td>\n",
       "    </tr>\n",
       "    <tr>\n",
       "      <th>55</th>\n",
       "      <td>55</td>\n",
       "      <td>862</td>\n",
       "      <td>61</td>\n",
       "      <td>Soft and cute as can be!</td>\n",
       "      <td>This is an adorable top that i find to be extr...</td>\n",
       "      <td>5</td>\n",
       "      <td>1</td>\n",
       "      <td>2</td>\n",
       "      <td>General</td>\n",
       "      <td>Tops</td>\n",
       "      <td>Knits</td>\n",
       "    </tr>\n",
       "  </tbody>\n",
       "</table>\n",
       "</div>"
      ],
      "text/plain": [
       "    Unnamed: 0  Clothing ID  Age                           Title  \\\n",
       "2            2         1077   60         Some major design flaws   \n",
       "35          35         1060   65                         Lovely!   \n",
       "43          43           89   67  Some things you should know...   \n",
       "54          54          862   66                        Cute top   \n",
       "55          55          862   61        Soft and cute as can be!   \n",
       "\n",
       "                                          Review Text  Rating  \\\n",
       "2   I had such high hopes for this dress and reall...       3   \n",
       "35  Wouldn't have given them a second look but tri...       4   \n",
       "43  First, this is thermal ,so naturally i didn't ...       4   \n",
       "54  Nice top. armholes are a bit oversized but as ...       4   \n",
       "55  This is an adorable top that i find to be extr...       5   \n",
       "\n",
       "    Recommended IND  Positive Feedback Count   Division Name Department Name  \\\n",
       "2                 0                        0         General         Dresses   \n",
       "35                1                        3  General Petite         Bottoms   \n",
       "43                1                        1       Initmates        Intimate   \n",
       "54                1                        2         General            Tops   \n",
       "55                1                        2         General            Tops   \n",
       "\n",
       "   Class Name  \n",
       "2     Dresses  \n",
       "35      Pants  \n",
       "43      Sleep  \n",
       "54      Knits  \n",
       "55      Knits  "
      ]
     },
     "execution_count": 46,
     "metadata": {},
     "output_type": "execute_result"
    }
   ],
   "source": [
    "group5.head()"
   ]
  },
  {
   "cell_type": "code",
   "execution_count": 47,
   "metadata": {},
   "outputs": [
    {
     "data": {
      "text/plain": [
       "'La calificación media de este grupo de edad es de 4.294577006507592'"
      ]
     },
     "execution_count": 47,
     "metadata": {},
     "output_type": "execute_result"
    }
   ],
   "source": [
    "\"La calificación media de este grupo de edad es de \" + str(group5[\"Rating\"].mean())"
   ]
  },
  {
   "cell_type": "code",
   "execution_count": 138,
   "metadata": {},
   "outputs": [],
   "source": [
    "group5_clean = group5[group5['Review Text'].notna()]\n",
    "common_words5 = Counter(\" \".join(group5_clean[\"Review Text\"]).split()).most_common(200)\n",
    "opiniones5 = pd.DataFrame(common_words5)\n",
    "review_words5 = opiniones5.apply(lambda x: [item for item in x if item not in stop])\n",
    "review_words5 = review_words5[0]"
   ]
  },
  {
   "cell_type": "code",
   "execution_count": 31,
   "metadata": {},
   "outputs": [
    {
     "data": {
      "text/plain": [
       "Tops        50.976139\n",
       "Dresses     22.299349\n",
       "Bottoms     14.837310\n",
       "Intimate     5.900217\n",
       "Jackets      5.509761\n",
       "Trend        0.477223\n",
       "Name: Department Name, dtype: float64"
      ]
     },
     "execution_count": 31,
     "metadata": {},
     "output_type": "execute_result"
    }
   ],
   "source": [
    "(group5[\"Department Name\"].value_counts()/len(group5[\"Department Name\"])) * 100"
   ]
  },
  {
   "cell_type": "code",
   "execution_count": 167,
   "metadata": {},
   "outputs": [
    {
     "data": {
      "text/plain": [
       "1    85.596529\n",
       "0    14.403471\n",
       "Name: Recommended IND, dtype: float64"
      ]
     },
     "execution_count": 167,
     "metadata": {},
     "output_type": "execute_result"
    }
   ],
   "source": [
    "group5[\"Recommended IND\"].value_counts()/len(group5[\"Recommended IND\"]) * 100"
   ]
  },
  {
   "cell_type": "markdown",
   "metadata": {},
   "source": [
    "### Mujeres mayores de 70 años"
   ]
  },
  {
   "cell_type": "code",
   "execution_count": 38,
   "metadata": {},
   "outputs": [
    {
     "data": {
      "text/plain": [
       "'Se trabajará con 473 opiniones de mujeres de 70 años o más.'"
      ]
     },
     "execution_count": 38,
     "metadata": {},
     "output_type": "execute_result"
    }
   ],
   "source": [
    "\"Se trabajará con \" + str(len(group6)) + \" opiniones de mujeres de 70 años o más.\""
   ]
  },
  {
   "cell_type": "code",
   "execution_count": 48,
   "metadata": {},
   "outputs": [
    {
     "data": {
      "text/html": [
       "<div>\n",
       "<style scoped>\n",
       "    .dataframe tbody tr th:only-of-type {\n",
       "        vertical-align: middle;\n",
       "    }\n",
       "\n",
       "    .dataframe tbody tr th {\n",
       "        vertical-align: top;\n",
       "    }\n",
       "\n",
       "    .dataframe thead th {\n",
       "        text-align: right;\n",
       "    }\n",
       "</style>\n",
       "<table border=\"1\" class=\"dataframe\">\n",
       "  <thead>\n",
       "    <tr style=\"text-align: right;\">\n",
       "      <th></th>\n",
       "      <th>Unnamed: 0</th>\n",
       "      <th>Clothing ID</th>\n",
       "      <th>Age</th>\n",
       "      <th>Title</th>\n",
       "      <th>Review Text</th>\n",
       "      <th>Rating</th>\n",
       "      <th>Recommended IND</th>\n",
       "      <th>Positive Feedback Count</th>\n",
       "      <th>Division Name</th>\n",
       "      <th>Department Name</th>\n",
       "      <th>Class Name</th>\n",
       "    </tr>\n",
       "  </thead>\n",
       "  <tbody>\n",
       "    <tr>\n",
       "      <th>95</th>\n",
       "      <td>95</td>\n",
       "      <td>863</td>\n",
       "      <td>83</td>\n",
       "      <td>Casual elegance!</td>\n",
       "      <td>Purchased this top online, and when i received...</td>\n",
       "      <td>5</td>\n",
       "      <td>1</td>\n",
       "      <td>14</td>\n",
       "      <td>General</td>\n",
       "      <td>Tops</td>\n",
       "      <td>Knits</td>\n",
       "    </tr>\n",
       "    <tr>\n",
       "      <th>126</th>\n",
       "      <td>126</td>\n",
       "      <td>1133</td>\n",
       "      <td>71</td>\n",
       "      <td>NaN</td>\n",
       "      <td>I read the previous reviews and had hoped that...</td>\n",
       "      <td>4</td>\n",
       "      <td>1</td>\n",
       "      <td>0</td>\n",
       "      <td>General</td>\n",
       "      <td>Jackets</td>\n",
       "      <td>Outerwear</td>\n",
       "    </tr>\n",
       "    <tr>\n",
       "      <th>211</th>\n",
       "      <td>211</td>\n",
       "      <td>1020</td>\n",
       "      <td>72</td>\n",
       "      <td>NaN</td>\n",
       "      <td>Very pretty fabric and beautiful color, but i ...</td>\n",
       "      <td>4</td>\n",
       "      <td>1</td>\n",
       "      <td>5</td>\n",
       "      <td>General Petite</td>\n",
       "      <td>Bottoms</td>\n",
       "      <td>Skirts</td>\n",
       "    </tr>\n",
       "    <tr>\n",
       "      <th>234</th>\n",
       "      <td>234</td>\n",
       "      <td>840</td>\n",
       "      <td>83</td>\n",
       "      <td>Pretty but runs large!</td>\n",
       "      <td>I ordered this top in my usual size and am exc...</td>\n",
       "      <td>5</td>\n",
       "      <td>1</td>\n",
       "      <td>0</td>\n",
       "      <td>General</td>\n",
       "      <td>Tops</td>\n",
       "      <td>Blouses</td>\n",
       "    </tr>\n",
       "    <tr>\n",
       "      <th>277</th>\n",
       "      <td>277</td>\n",
       "      <td>868</td>\n",
       "      <td>83</td>\n",
       "      <td>Sooooooooo cute!</td>\n",
       "      <td>Love this top!\\nit is a full/ swing top, but t...</td>\n",
       "      <td>5</td>\n",
       "      <td>1</td>\n",
       "      <td>1</td>\n",
       "      <td>General</td>\n",
       "      <td>Tops</td>\n",
       "      <td>Knits</td>\n",
       "    </tr>\n",
       "  </tbody>\n",
       "</table>\n",
       "</div>"
      ],
      "text/plain": [
       "     Unnamed: 0  Clothing ID  Age                   Title  \\\n",
       "95           95          863   83        Casual elegance!   \n",
       "126         126         1133   71                     NaN   \n",
       "211         211         1020   72                     NaN   \n",
       "234         234          840   83  Pretty but runs large!   \n",
       "277         277          868   83        Sooooooooo cute!   \n",
       "\n",
       "                                           Review Text  Rating  \\\n",
       "95   Purchased this top online, and when i received...       5   \n",
       "126  I read the previous reviews and had hoped that...       4   \n",
       "211  Very pretty fabric and beautiful color, but i ...       4   \n",
       "234  I ordered this top in my usual size and am exc...       5   \n",
       "277  Love this top!\\nit is a full/ swing top, but t...       5   \n",
       "\n",
       "     Recommended IND  Positive Feedback Count   Division Name Department Name  \\\n",
       "95                 1                       14         General            Tops   \n",
       "126                1                        0         General         Jackets   \n",
       "211                1                        5  General Petite         Bottoms   \n",
       "234                1                        0         General            Tops   \n",
       "277                1                        1         General            Tops   \n",
       "\n",
       "    Class Name  \n",
       "95       Knits  \n",
       "126  Outerwear  \n",
       "211     Skirts  \n",
       "234    Blouses  \n",
       "277      Knits  "
      ]
     },
     "execution_count": 48,
     "metadata": {},
     "output_type": "execute_result"
    }
   ],
   "source": [
    "group6.head()"
   ]
  },
  {
   "cell_type": "code",
   "execution_count": 49,
   "metadata": {},
   "outputs": [
    {
     "data": {
      "text/plain": [
       "'La calificación media de este grupo de edad es de 4.25369978858351'"
      ]
     },
     "execution_count": 49,
     "metadata": {},
     "output_type": "execute_result"
    }
   ],
   "source": [
    "\"La calificación media de este grupo de edad es de \" + str(group6[\"Rating\"].mean())"
   ]
  },
  {
   "cell_type": "code",
   "execution_count": 139,
   "metadata": {},
   "outputs": [],
   "source": [
    "group6_clean = group6[group6['Review Text'].notna()]\n",
    "common_words6 = Counter(\" \".join(group6_clean[\"Review Text\"]).split()).most_common(200)\n",
    "opiniones6 = pd.DataFrame(common_words6)\n",
    "review_words6 = opiniones6.apply(lambda x: [item for item in x if item not in stop])\n",
    "review_words6 = review_words6[0]"
   ]
  },
  {
   "cell_type": "code",
   "execution_count": 156,
   "metadata": {},
   "outputs": [
    {
     "data": {
      "text/plain": [
       "1    83.298097\n",
       "0    16.701903\n",
       "Name: Recommended IND, dtype: float64"
      ]
     },
     "execution_count": 156,
     "metadata": {},
     "output_type": "execute_result"
    }
   ],
   "source": [
    "group6[\"Recommended IND\"].value_counts()/len(group6[\"Recommended IND\"]) * 100"
   ]
  },
  {
   "cell_type": "code",
   "execution_count": 22,
   "metadata": {},
   "outputs": [
    {
     "data": {
      "text/plain": [
       "Tops        50.951374\n",
       "Dresses     22.621564\n",
       "Bottoms     12.473573\n",
       "Intimate     7.399577\n",
       "Jackets      6.131078\n",
       "Trend        0.422833\n",
       "Name: Department Name, dtype: float64"
      ]
     },
     "execution_count": 22,
     "metadata": {},
     "output_type": "execute_result"
    }
   ],
   "source": [
    "(group6[\"Department Name\"].value_counts()/len(group6[\"Department Name\"])) * 100"
   ]
  },
  {
   "cell_type": "markdown",
   "metadata": {},
   "source": [
    "### Información general de todos los grupos de edad"
   ]
  },
  {
   "cell_type": "markdown",
   "metadata": {},
   "source": [
    "Compras por departamento"
   ]
  },
  {
   "cell_type": "code",
   "execution_count": 158,
   "metadata": {},
   "outputs": [
    {
     "data": {
      "image/png": "[encoded data removed]",
      "text/plain": [
       "<Figure size 720x360 with 1 Axes>"
      ]
     },
     "metadata": {},
     "output_type": "display_data"
    }
   ],
   "source": [
    "department_sales  = (df[\"Department Name\"].value_counts()/len(df[\"Department Name\"])) * 100\n",
    "department_sales = department_sales[:10,]\n",
    "plt.figure(figsize=(10,5))\n",
    "sns.barplot(department_sales.index, department_sales.values, alpha=0.8)\n",
    "plt.title('Porcentaje de opiniones revisadas por departamento')\n",
    "plt.ylabel('Porcentaje', fontsize=12)\n",
    "plt.xlabel('Departamento', fontsize=12)\n",
    "plt.show()"
   ]
  },
  {
   "cell_type": "code",
   "execution_count": 140,
   "metadata": {},
   "outputs": [
    {
     "data": {
      "text/plain": [
       "[4.201637666325486,\n",
       " 4.17047520124643,\n",
       " 4.158315652031989,\n",
       " 4.23581560283688,\n",
       " 4.294577006507592,\n",
       " 4.25369978858351]"
      ]
     },
     "execution_count": 140,
     "metadata": {},
     "output_type": "execute_result"
    }
   ],
   "source": [
    "group_ratings = [group1[\"Rating\"].mean(), group2[\"Rating\"].mean(), \n",
    "                group3[\"Rating\"].mean(), group4[\"Rating\"].mean(), \n",
    "                group5[\"Rating\"].mean(), group6[\"Rating\"].mean()]\n",
    "group_ratings"
   ]
  },
  {
   "cell_type": "code",
   "execution_count": 52,
   "metadata": {},
   "outputs": [
    {
     "data": {
      "text/html": [
       "<div>\n",
       "<style scoped>\n",
       "    .dataframe tbody tr th:only-of-type {\n",
       "        vertical-align: middle;\n",
       "    }\n",
       "\n",
       "    .dataframe tbody tr th {\n",
       "        vertical-align: top;\n",
       "    }\n",
       "\n",
       "    .dataframe thead th {\n",
       "        text-align: right;\n",
       "    }\n",
       "</style>\n",
       "<table border=\"1\" class=\"dataframe\">\n",
       "  <thead>\n",
       "    <tr style=\"text-align: right;\">\n",
       "      <th></th>\n",
       "      <th>Edad</th>\n",
       "      <th>Promedios</th>\n",
       "    </tr>\n",
       "  </thead>\n",
       "  <tbody>\n",
       "    <tr>\n",
       "      <th>0</th>\n",
       "      <td>18 a 29</td>\n",
       "      <td>4.201638</td>\n",
       "    </tr>\n",
       "    <tr>\n",
       "      <th>1</th>\n",
       "      <td>30 a 39</td>\n",
       "      <td>4.170475</td>\n",
       "    </tr>\n",
       "    <tr>\n",
       "      <th>2</th>\n",
       "      <td>40 a 49</td>\n",
       "      <td>4.158316</td>\n",
       "    </tr>\n",
       "    <tr>\n",
       "      <th>3</th>\n",
       "      <td>50 a 59</td>\n",
       "      <td>4.235816</td>\n",
       "    </tr>\n",
       "    <tr>\n",
       "      <th>4</th>\n",
       "      <td>60 a 69</td>\n",
       "      <td>4.294577</td>\n",
       "    </tr>\n",
       "    <tr>\n",
       "      <th>5</th>\n",
       "      <td>70 y más</td>\n",
       "      <td>4.253700</td>\n",
       "    </tr>\n",
       "  </tbody>\n",
       "</table>\n",
       "</div>"
      ],
      "text/plain": [
       "       Edad  Promedios\n",
       "0   18 a 29   4.201638\n",
       "1   30 a 39   4.170475\n",
       "2   40 a 49   4.158316\n",
       "3   50 a 59   4.235816\n",
       "4   60 a 69   4.294577\n",
       "5  70 y más   4.253700"
      ]
     },
     "execution_count": 52,
     "metadata": {},
     "output_type": "execute_result"
    }
   ],
   "source": [
    "conjunto_promedios = {'Edad':age_groups,'Promedios':group_ratings}\n",
    "df_promedios = pd.DataFrame(conjunto_promedios)\n",
    "df_promedios"
   ]
  },
  {
   "cell_type": "code",
   "execution_count": 63,
   "metadata": {},
   "outputs": [
    {
     "data": {
      "text/plain": [
       "<matplotlib.axes._subplots.AxesSubplot at 0x7f1460f2c6a0>"
      ]
     },
     "execution_count": 63,
     "metadata": {},
     "output_type": "execute_result"
    },
    {
     "data": {
      "image/png": "[encoded data removed]",
      "text/plain": [
       "<Figure size 720x432 with 1 Axes>"
      ]
     },
     "metadata": {},
     "output_type": "display_data"
    }
   ],
   "source": [
    "plt.figure(figsize=(10, 6))\n",
    "plt.ylim(3.8, 4.5)\n",
    "sns.set_style(\"whitegrid\")\n",
    "sns.barplot(x='Edad', y='Promedios', palette=\"rocket\", data=df_promedios)"
   ]
  },
  {
   "cell_type": "code",
   "execution_count": 170,
   "metadata": {},
   "outputs": [
    {
     "data": {
      "text/plain": [
       "[81.7468440805186,\n",
       " 81.35549207997923,\n",
       " 81.24693977476743,\n",
       " 83.76393110435664,\n",
       " 85.59652928416486,\n",
       " 83.29809725158562]"
      ]
     },
     "execution_count": 170,
     "metadata": {},
     "output_type": "execute_result"
    }
   ],
   "source": [
    "positive_reviews = [\n",
    "    (group1[\"Recommended IND\"].value_counts()/len(group1[\"Recommended IND\"]) * 100)[1],\n",
    "    (group2[\"Recommended IND\"].value_counts()/len(group2[\"Recommended IND\"]) * 100)[1],\n",
    "    (group3[\"Recommended IND\"].value_counts()/len(group3[\"Recommended IND\"]) * 100)[1],\n",
    "    (group4[\"Recommended IND\"].value_counts()/len(group4[\"Recommended IND\"]) * 100)[1],\n",
    "    (group5[\"Recommended IND\"].value_counts()/len(group5[\"Recommended IND\"]) * 100)[1],\n",
    "    (group6[\"Recommended IND\"].value_counts()/len(group6[\"Recommended IND\"]) * 100)[1]\n",
    "]\n",
    "positive_reviews"
   ]
  },
  {
   "cell_type": "code",
   "execution_count": 171,
   "metadata": {},
   "outputs": [
    {
     "data": {
      "text/html": [
       "<div>\n",
       "<style scoped>\n",
       "    .dataframe tbody tr th:only-of-type {\n",
       "        vertical-align: middle;\n",
       "    }\n",
       "\n",
       "    .dataframe tbody tr th {\n",
       "        vertical-align: top;\n",
       "    }\n",
       "\n",
       "    .dataframe thead th {\n",
       "        text-align: right;\n",
       "    }\n",
       "</style>\n",
       "<table border=\"1\" class=\"dataframe\">\n",
       "  <thead>\n",
       "    <tr style=\"text-align: right;\">\n",
       "      <th></th>\n",
       "      <th>Edad</th>\n",
       "      <th>Porcentaje de opiniones positivas</th>\n",
       "    </tr>\n",
       "  </thead>\n",
       "  <tbody>\n",
       "    <tr>\n",
       "      <th>0</th>\n",
       "      <td>18 a 29</td>\n",
       "      <td>81.746844</td>\n",
       "    </tr>\n",
       "    <tr>\n",
       "      <th>1</th>\n",
       "      <td>30 a 39</td>\n",
       "      <td>81.355492</td>\n",
       "    </tr>\n",
       "    <tr>\n",
       "      <th>2</th>\n",
       "      <td>40 a 49</td>\n",
       "      <td>81.246940</td>\n",
       "    </tr>\n",
       "    <tr>\n",
       "      <th>3</th>\n",
       "      <td>50 a 59</td>\n",
       "      <td>83.763931</td>\n",
       "    </tr>\n",
       "    <tr>\n",
       "      <th>4</th>\n",
       "      <td>60 a 69</td>\n",
       "      <td>85.596529</td>\n",
       "    </tr>\n",
       "    <tr>\n",
       "      <th>5</th>\n",
       "      <td>70 y más</td>\n",
       "      <td>83.298097</td>\n",
       "    </tr>\n",
       "  </tbody>\n",
       "</table>\n",
       "</div>"
      ],
      "text/plain": [
       "       Edad  Porcentaje de opiniones positivas\n",
       "0   18 a 29                          81.746844\n",
       "1   30 a 39                          81.355492\n",
       "2   40 a 49                          81.246940\n",
       "3   50 a 59                          83.763931\n",
       "4   60 a 69                          85.596529\n",
       "5  70 y más                          83.298097"
      ]
     },
     "execution_count": 171,
     "metadata": {},
     "output_type": "execute_result"
    }
   ],
   "source": [
    "conjunto_positivo = {'Edad':age_groups,'Porcentaje de opiniones positivas':positive_reviews}\n",
    "df_positivo = pd.DataFrame(conjunto_positivo)\n",
    "df_positivo"
   ]
  },
  {
   "cell_type": "code",
   "execution_count": 173,
   "metadata": {},
   "outputs": [
    {
     "data": {
      "text/plain": [
       "<matplotlib.axes._subplots.AxesSubplot at 0x7f1460c862e8>"
      ]
     },
     "execution_count": 173,
     "metadata": {},
     "output_type": "execute_result"
    },
    {
     "data": {
      "image/png": "[encoded data removed]",
      "text/plain": [
       "<Figure size 720x432 with 1 Axes>"
      ]
     },
     "metadata": {},
     "output_type": "display_data"
    }
   ],
   "source": [
    "plt.figure(figsize=(10, 6))\n",
    "plt.ylim(78, 87)\n",
    "sns.set_style(\"whitegrid\")\n",
    "sns.barplot(x='Edad', y='Porcentaje de opiniones positivas', palette=\"rocket\", data=df_positivo)"
   ]
  },
  {
   "cell_type": "code",
   "execution_count": 141,
   "metadata": {},
   "outputs": [
    {
     "data": {
      "text/plain": [
       "['loose', 'recommend']"
      ]
     },
     "execution_count": 141,
     "metadata": {},
     "output_type": "execute_result"
    }
   ],
   "source": [
    "diff1 = list(set(review_words1) - set(review_words2) - set(review_words3)  - set(review_words4)  - set(review_words5)  - set(review_words6))\n",
    "diff1"
   ]
  },
  {
   "cell_type": "code",
   "execution_count": 142,
   "metadata": {},
   "outputs": [
    {
     "data": {
      "text/plain": [
       "['body', 'normally', 'since']"
      ]
     },
     "execution_count": 142,
     "metadata": {},
     "output_type": "execute_result"
    }
   ],
   "source": [
    "diff2 = list(set(review_words2) - set(review_words1) - set(review_words3)  - set(review_words4)  - set(review_words5)  - set(review_words6))\n",
    "diff2"
   ]
  },
  {
   "cell_type": "code",
   "execution_count": 143,
   "metadata": {},
   "outputs": [
    {
     "data": {
      "text/plain": [
       "['bottom']"
      ]
     },
     "execution_count": 143,
     "metadata": {},
     "output_type": "execute_result"
    }
   ],
   "source": [
    "diff3 = list(set(review_words3) - set(review_words1) - set(review_words2)  - set(review_words4)  - set(review_words5)  - set(review_words6))\n",
    "diff3"
   ]
  },
  {
   "cell_type": "code",
   "execution_count": 144,
   "metadata": {},
   "outputs": [
    {
     "data": {
      "text/plain": [
       "['perfect.']"
      ]
     },
     "execution_count": 144,
     "metadata": {},
     "output_type": "execute_result"
    }
   ],
   "source": [
    "diff4 = list(set(review_words4) - set(review_words1) - set(review_words1)  - set(review_words3)  - set(review_words5)  - set(review_words6))\n",
    "diff4"
   ]
  },
  {
   "cell_type": "code",
   "execution_count": 145,
   "metadata": {},
   "outputs": [
    {
     "data": {
      "text/plain": [
       "['lovely', 'may', 'weight']"
      ]
     },
     "execution_count": 145,
     "metadata": {},
     "output_type": "execute_result"
    }
   ],
   "source": [
    "diff5 = list(set(review_words5) - set(review_words1) - set(review_words2)  - set(review_words3)  - set(review_words4) - set(review_words6))\n",
    "diff5"
   ]
  },
  {
   "cell_type": "code",
   "execution_count": 147,
   "metadata": {},
   "outputs": [
    {
     "data": {
      "text/plain": [
       "['pattern', 'fit.', 'unique', 'two', 'return', 'knit', 'received', '8']"
      ]
     },
     "execution_count": 147,
     "metadata": {},
     "output_type": "execute_result"
    }
   ],
   "source": [
    "diff6 = list(set(review_words6) - set(review_words1) - set(review_words2)  - set(review_words3)  - set(review_words4) - set(review_words5))\n",
    "diff6"
   ]
  },
  {
   "cell_type": "markdown",
   "metadata": {},
   "source": [
    "## Análisis por clase de prenda"
   ]
  },
  {
   "cell_type": "code",
   "execution_count": 188,
   "metadata": {},
   "outputs": [],
   "source": [
    "tops = df[(df['Department Name'] == \"Tops\")]\n",
    "dresses = df[(df['Department Name'] == \"Dresses\")]\n",
    "bottoms = df[(df['Department Name'] == \"Bottoms\")]\n",
    "intimate = df[(df['Department Name'] == \"Intimate\")]\n",
    "jackets = df[(df['Department Name'] == \"Jackets\")]\n",
    "trends = df[(df['Department Name'] == \"Trend\")]"
   ]
  },
  {
   "cell_type": "code",
   "execution_count": 199,
   "metadata": {},
   "outputs": [
    {
     "data": {
      "text/html": [
       "<div>\n",
       "<style scoped>\n",
       "    .dataframe tbody tr th:only-of-type {\n",
       "        vertical-align: middle;\n",
       "    }\n",
       "\n",
       "    .dataframe tbody tr th {\n",
       "        vertical-align: top;\n",
       "    }\n",
       "\n",
       "    .dataframe thead th {\n",
       "        text-align: right;\n",
       "    }\n",
       "</style>\n",
       "<table border=\"1\" class=\"dataframe\">\n",
       "  <thead>\n",
       "    <tr style=\"text-align: right;\">\n",
       "      <th></th>\n",
       "      <th>Departamentos</th>\n",
       "      <th>Promedios</th>\n",
       "    </tr>\n",
       "  </thead>\n",
       "  <tbody>\n",
       "    <tr>\n",
       "      <th>0</th>\n",
       "      <td>Tops</td>\n",
       "      <td>4.172239</td>\n",
       "    </tr>\n",
       "    <tr>\n",
       "      <th>1</th>\n",
       "      <td>Dresses</td>\n",
       "      <td>4.150815</td>\n",
       "    </tr>\n",
       "    <tr>\n",
       "      <th>2</th>\n",
       "      <td>Bottoms</td>\n",
       "      <td>4.288760</td>\n",
       "    </tr>\n",
       "    <tr>\n",
       "      <th>3</th>\n",
       "      <td>Intimate</td>\n",
       "      <td>4.280115</td>\n",
       "    </tr>\n",
       "    <tr>\n",
       "      <th>4</th>\n",
       "      <td>Jackets</td>\n",
       "      <td>4.264535</td>\n",
       "    </tr>\n",
       "    <tr>\n",
       "      <th>5</th>\n",
       "      <td>Trends</td>\n",
       "      <td>3.815126</td>\n",
       "    </tr>\n",
       "  </tbody>\n",
       "</table>\n",
       "</div>"
      ],
      "text/plain": [
       "  Departamentos  Promedios\n",
       "0          Tops   4.172239\n",
       "1       Dresses   4.150815\n",
       "2       Bottoms   4.288760\n",
       "3      Intimate   4.280115\n",
       "4       Jackets   4.264535\n",
       "5        Trends   3.815126"
      ]
     },
     "execution_count": 199,
     "metadata": {},
     "output_type": "execute_result"
    }
   ],
   "source": [
    "department_ratings = [tops[\"Rating\"].mean(),\n",
    "                      dresses[\"Rating\"].mean(),\n",
    "                      bottoms[\"Rating\"].mean(),\n",
    "                      intimate[\"Rating\"].mean(),\n",
    "                      jackets[\"Rating\"].mean(),\n",
    "                      trends[\"Rating\"].mean()]\n",
    "department_names = [\"Tops\", \"Dresses\", \"Bottoms\", \"Intimate\", \"Jackets\", \"Trends\"]\n",
    "rating_departamentos = {'Departamentos':department_names,'Promedios':department_ratings}\n",
    "df_departamentos_r = pd.DataFrame(rating_departamentos)\n",
    "df_departamentos_r"
   ]
  },
  {
   "cell_type": "code",
   "execution_count": 203,
   "metadata": {},
   "outputs": [
    {
     "data": {
      "text/plain": [
       "<matplotlib.axes._subplots.AxesSubplot at 0x7f1460ae2cf8>"
      ]
     },
     "execution_count": 203,
     "metadata": {},
     "output_type": "execute_result"
    },
    {
     "data": {
      "image/png": "[encoded data removed]",
      "text/plain": [
       "<Figure size 720x432 with 1 Axes>"
      ]
     },
     "metadata": {},
     "output_type": "display_data"
    }
   ],
   "source": [
    "plt.figure(figsize=(10, 6))\n",
    "plt.ylim(3.6, 4.5)\n",
    "sns.set_style(\"whitegrid\")\n",
    "sns.barplot(x='Departamentos', y='Promedios', palette=\"rocket\", data=df_departamentos_r)"
   ]
  },
  {
   "cell_type": "code",
   "execution_count": null,
   "metadata": {},
   "outputs": [],
   "source": []
  },
  {
   "cell_type": "markdown",
   "metadata": {},
   "source": [
    "### Tops"
   ]
  },
  {
   "cell_type": "code",
   "execution_count": 190,
   "metadata": {},
   "outputs": [
    {
     "data": {
      "text/plain": [
       "Knits         46.264807\n",
       "Blouses       29.585403\n",
       "Sweaters      13.641574\n",
       "Fine gauge    10.508216\n",
       "Name: Class Name, dtype: float64"
      ]
     },
     "execution_count": 190,
     "metadata": {},
     "output_type": "execute_result"
    }
   ],
   "source": [
    "tops[\"Class Name\"].value_counts()/len(tops[\"Class Name\"]) * 100"
   ]
  },
  {
   "cell_type": "code",
   "execution_count": 189,
   "metadata": {},
   "outputs": [
    {
     "data": {
      "text/html": [
       "<div>\n",
       "<style scoped>\n",
       "    .dataframe tbody tr th:only-of-type {\n",
       "        vertical-align: middle;\n",
       "    }\n",
       "\n",
       "    .dataframe tbody tr th {\n",
       "        vertical-align: top;\n",
       "    }\n",
       "\n",
       "    .dataframe thead th {\n",
       "        text-align: right;\n",
       "    }\n",
       "</style>\n",
       "<table border=\"1\" class=\"dataframe\">\n",
       "  <thead>\n",
       "    <tr style=\"text-align: right;\">\n",
       "      <th></th>\n",
       "      <th>Unnamed: 0</th>\n",
       "      <th>Clothing ID</th>\n",
       "      <th>Age</th>\n",
       "      <th>Title</th>\n",
       "      <th>Review Text</th>\n",
       "      <th>Rating</th>\n",
       "      <th>Recommended IND</th>\n",
       "      <th>Positive Feedback Count</th>\n",
       "      <th>Division Name</th>\n",
       "      <th>Department Name</th>\n",
       "      <th>Class Name</th>\n",
       "    </tr>\n",
       "  </thead>\n",
       "  <tbody>\n",
       "    <tr>\n",
       "      <th>4</th>\n",
       "      <td>4</td>\n",
       "      <td>847</td>\n",
       "      <td>47</td>\n",
       "      <td>Flattering shirt</td>\n",
       "      <td>This shirt is very flattering to all due to th...</td>\n",
       "      <td>5</td>\n",
       "      <td>1</td>\n",
       "      <td>6</td>\n",
       "      <td>General</td>\n",
       "      <td>Tops</td>\n",
       "      <td>Blouses</td>\n",
       "    </tr>\n",
       "    <tr>\n",
       "      <th>6</th>\n",
       "      <td>6</td>\n",
       "      <td>858</td>\n",
       "      <td>39</td>\n",
       "      <td>Cagrcoal shimmer fun</td>\n",
       "      <td>I aded this in my basket at hte last mintue to...</td>\n",
       "      <td>5</td>\n",
       "      <td>1</td>\n",
       "      <td>1</td>\n",
       "      <td>General Petite</td>\n",
       "      <td>Tops</td>\n",
       "      <td>Knits</td>\n",
       "    </tr>\n",
       "    <tr>\n",
       "      <th>7</th>\n",
       "      <td>7</td>\n",
       "      <td>858</td>\n",
       "      <td>39</td>\n",
       "      <td>Shimmer, surprisingly goes with lots</td>\n",
       "      <td>I ordered this in carbon for store pick up, an...</td>\n",
       "      <td>4</td>\n",
       "      <td>1</td>\n",
       "      <td>4</td>\n",
       "      <td>General Petite</td>\n",
       "      <td>Tops</td>\n",
       "      <td>Knits</td>\n",
       "    </tr>\n",
       "    <tr>\n",
       "      <th>17</th>\n",
       "      <td>17</td>\n",
       "      <td>853</td>\n",
       "      <td>41</td>\n",
       "      <td>Looks great with white pants</td>\n",
       "      <td>Took a chance on this blouse and so glad i did...</td>\n",
       "      <td>5</td>\n",
       "      <td>1</td>\n",
       "      <td>0</td>\n",
       "      <td>General</td>\n",
       "      <td>Tops</td>\n",
       "      <td>Blouses</td>\n",
       "    </tr>\n",
       "    <tr>\n",
       "      <th>20</th>\n",
       "      <td>20</td>\n",
       "      <td>847</td>\n",
       "      <td>33</td>\n",
       "      <td>Cute, crisp shirt</td>\n",
       "      <td>If this product was in petite, i would get the...</td>\n",
       "      <td>4</td>\n",
       "      <td>1</td>\n",
       "      <td>2</td>\n",
       "      <td>General</td>\n",
       "      <td>Tops</td>\n",
       "      <td>Blouses</td>\n",
       "    </tr>\n",
       "  </tbody>\n",
       "</table>\n",
       "</div>"
      ],
      "text/plain": [
       "    Unnamed: 0  Clothing ID  Age                                 Title  \\\n",
       "4            4          847   47                      Flattering shirt   \n",
       "6            6          858   39                  Cagrcoal shimmer fun   \n",
       "7            7          858   39  Shimmer, surprisingly goes with lots   \n",
       "17          17          853   41          Looks great with white pants   \n",
       "20          20          847   33                     Cute, crisp shirt   \n",
       "\n",
       "                                          Review Text  Rating  \\\n",
       "4   This shirt is very flattering to all due to th...       5   \n",
       "6   I aded this in my basket at hte last mintue to...       5   \n",
       "7   I ordered this in carbon for store pick up, an...       4   \n",
       "17  Took a chance on this blouse and so glad i did...       5   \n",
       "20  If this product was in petite, i would get the...       4   \n",
       "\n",
       "    Recommended IND  Positive Feedback Count   Division Name Department Name  \\\n",
       "4                 1                        6         General            Tops   \n",
       "6                 1                        1  General Petite            Tops   \n",
       "7                 1                        4  General Petite            Tops   \n",
       "17                1                        0         General            Tops   \n",
       "20                1                        2         General            Tops   \n",
       "\n",
       "   Class Name  \n",
       "4     Blouses  \n",
       "6       Knits  \n",
       "7       Knits  \n",
       "17    Blouses  \n",
       "20    Blouses  "
      ]
     },
     "execution_count": 189,
     "metadata": {},
     "output_type": "execute_result"
    }
   ],
   "source": [
    "tops.head()"
   ]
  },
  {
   "cell_type": "code",
   "execution_count": 210,
   "metadata": {},
   "outputs": [],
   "source": [
    "blouses = tops[(tops['Class Name'] == \"Blouses\")]\n",
    "knits = tops[(tops['Class Name'] == \"Knits\")]\n",
    "sweaters = tops[(tops['Class Name'] == \"Sweaters\")]\n",
    "fine_gauge = tops[(tops['Class Name'] == \"Fine gauge\")]"
   ]
  },
  {
   "cell_type": "code",
   "execution_count": 217,
   "metadata": {},
   "outputs": [
    {
     "data": {
      "text/html": [
       "<div>\n",
       "<style scoped>\n",
       "    .dataframe tbody tr th:only-of-type {\n",
       "        vertical-align: middle;\n",
       "    }\n",
       "\n",
       "    .dataframe tbody tr th {\n",
       "        vertical-align: top;\n",
       "    }\n",
       "\n",
       "    .dataframe thead th {\n",
       "        text-align: right;\n",
       "    }\n",
       "</style>\n",
       "<table border=\"1\" class=\"dataframe\">\n",
       "  <thead>\n",
       "    <tr style=\"text-align: right;\">\n",
       "      <th></th>\n",
       "      <th>Clases</th>\n",
       "      <th>Promedios</th>\n",
       "    </tr>\n",
       "  </thead>\n",
       "  <tbody>\n",
       "    <tr>\n",
       "      <th>0</th>\n",
       "      <td>Blouses</td>\n",
       "      <td>4.154020</td>\n",
       "    </tr>\n",
       "    <tr>\n",
       "      <th>1</th>\n",
       "      <td>Knits</td>\n",
       "      <td>4.161677</td>\n",
       "    </tr>\n",
       "    <tr>\n",
       "      <th>2</th>\n",
       "      <td>Sweaters</td>\n",
       "      <td>4.179272</td>\n",
       "    </tr>\n",
       "    <tr>\n",
       "      <th>3</th>\n",
       "      <td>Fine gauge</td>\n",
       "      <td>4.260909</td>\n",
       "    </tr>\n",
       "  </tbody>\n",
       "</table>\n",
       "</div>"
      ],
      "text/plain": [
       "       Clases  Promedios\n",
       "0     Blouses   4.154020\n",
       "1       Knits   4.161677\n",
       "2    Sweaters   4.179272\n",
       "3  Fine gauge   4.260909"
      ]
     },
     "execution_count": 217,
     "metadata": {},
     "output_type": "execute_result"
    }
   ],
   "source": [
    "tops_ratings =        [blouses[\"Rating\"].mean(),\n",
    "                      knits[\"Rating\"].mean(),\n",
    "                      sweaters[\"Rating\"].mean(),\n",
    "                      fine_gauge[\"Rating\"].mean()]\n",
    "tops_names = [\"Blouses\", \"Knits\", \"Sweaters\", \"Fine gauge\"]\n",
    "rating_tops = {'Clases':tops_names,'Promedios':tops_ratings}\n",
    "df_tops_r = pd.DataFrame(rating_tops)\n",
    "df_tops_r"
   ]
  },
  {
   "cell_type": "code",
   "execution_count": 237,
   "metadata": {},
   "outputs": [
    {
     "data": {
      "text/plain": [
       "<matplotlib.axes._subplots.AxesSubplot at 0x7f1460ae2898>"
      ]
     },
     "execution_count": 237,
     "metadata": {},
     "output_type": "execute_result"
    },
    {
     "data": {
      "image/png": "[encoded data removed]",
      "text/plain": [
       "<Figure size 720x432 with 1 Axes>"
      ]
     },
     "metadata": {},
     "output_type": "display_data"
    }
   ],
   "source": [
    "plt.figure(figsize=(10, 6))\n",
    "plt.ylim(3.6, 4.5)\n",
    "sns.set_style(\"whitegrid\")\n",
    "sns.barplot(x='Clases', y='Promedios', palette=\"rocket\", data=df_tops_r)"
   ]
  },
  {
   "cell_type": "markdown",
   "metadata": {},
   "source": [
    "### Dresses"
   ]
  },
  {
   "cell_type": "code",
   "execution_count": 218,
   "metadata": {},
   "outputs": [
    {
     "data": {
      "text/plain": [
       "Dresses    100.0\n",
       "Name: Class Name, dtype: float64"
      ]
     },
     "execution_count": 218,
     "metadata": {},
     "output_type": "execute_result"
    }
   ],
   "source": [
    "dresses[\"Class Name\"].value_counts()/len(dresses[\"Class Name\"]) * 100"
   ]
  },
  {
   "cell_type": "code",
   "execution_count": 219,
   "metadata": {},
   "outputs": [
    {
     "data": {
      "text/plain": [
       "4.150815002373793"
      ]
     },
     "execution_count": 219,
     "metadata": {},
     "output_type": "execute_result"
    }
   ],
   "source": [
    "dresses[\"Rating\"].mean()"
   ]
  },
  {
   "cell_type": "code",
   "execution_count": 249,
   "metadata": {},
   "outputs": [
    {
     "data": {
      "text/html": [
       "<div>\n",
       "<style scoped>\n",
       "    .dataframe tbody tr th:only-of-type {\n",
       "        vertical-align: middle;\n",
       "    }\n",
       "\n",
       "    .dataframe tbody tr th {\n",
       "        vertical-align: top;\n",
       "    }\n",
       "\n",
       "    .dataframe thead th {\n",
       "        text-align: right;\n",
       "    }\n",
       "</style>\n",
       "<table border=\"1\" class=\"dataframe\">\n",
       "  <thead>\n",
       "    <tr style=\"text-align: right;\">\n",
       "      <th></th>\n",
       "      <th>Clases</th>\n",
       "      <th>Promedios</th>\n",
       "    </tr>\n",
       "  </thead>\n",
       "  <tbody>\n",
       "    <tr>\n",
       "      <th>0</th>\n",
       "      <td>Dresses</td>\n",
       "      <td>4.150815</td>\n",
       "    </tr>\n",
       "  </tbody>\n",
       "</table>\n",
       "</div>"
      ],
      "text/plain": [
       "    Clases  Promedios\n",
       "0  Dresses   4.150815"
      ]
     },
     "execution_count": 249,
     "metadata": {},
     "output_type": "execute_result"
    }
   ],
   "source": [
    "dresses_ratings = [dresses[\"Rating\"].mean()]\n",
    "dress_names = [\"Dresses\"]\n",
    "rating_dress = {'Clases':dress_names,'Promedios':dresses_ratings}\n",
    "df_dress_r = pd.DataFrame(rating_dress)\n",
    "df_dress_r"
   ]
  },
  {
   "cell_type": "markdown",
   "metadata": {},
   "source": [
    "### Bottoms"
   ]
  },
  {
   "cell_type": "code",
   "execution_count": 192,
   "metadata": {},
   "outputs": [
    {
     "data": {
      "text/plain": [
       "Pants             36.535931\n",
       "Jeans             30.192156\n",
       "Skirts            24.874967\n",
       "Shorts             8.344301\n",
       "Casual bottoms     0.052645\n",
       "Name: Class Name, dtype: float64"
      ]
     },
     "execution_count": 192,
     "metadata": {},
     "output_type": "execute_result"
    }
   ],
   "source": [
    "bottoms[\"Class Name\"].value_counts()/len(bottoms[\"Class Name\"]) * 100"
   ]
  },
  {
   "cell_type": "code",
   "execution_count": 212,
   "metadata": {},
   "outputs": [
    {
     "data": {
      "text/html": [
       "<div>\n",
       "<style scoped>\n",
       "    .dataframe tbody tr th:only-of-type {\n",
       "        vertical-align: middle;\n",
       "    }\n",
       "\n",
       "    .dataframe tbody tr th {\n",
       "        vertical-align: top;\n",
       "    }\n",
       "\n",
       "    .dataframe thead th {\n",
       "        text-align: right;\n",
       "    }\n",
       "</style>\n",
       "<table border=\"1\" class=\"dataframe\">\n",
       "  <thead>\n",
       "    <tr style=\"text-align: right;\">\n",
       "      <th></th>\n",
       "      <th>Unnamed: 0</th>\n",
       "      <th>Clothing ID</th>\n",
       "      <th>Age</th>\n",
       "      <th>Title</th>\n",
       "      <th>Review Text</th>\n",
       "      <th>Rating</th>\n",
       "      <th>Recommended IND</th>\n",
       "      <th>Positive Feedback Count</th>\n",
       "      <th>Division Name</th>\n",
       "      <th>Department Name</th>\n",
       "      <th>Class Name</th>\n",
       "    </tr>\n",
       "  </thead>\n",
       "  <tbody>\n",
       "    <tr>\n",
       "      <th>4612</th>\n",
       "      <td>4612</td>\n",
       "      <td>54</td>\n",
       "      <td>27</td>\n",
       "      <td>NaN</td>\n",
       "      <td>NaN</td>\n",
       "      <td>5</td>\n",
       "      <td>1</td>\n",
       "      <td>0</td>\n",
       "      <td>General</td>\n",
       "      <td>Bottoms</td>\n",
       "      <td>Casual bottoms</td>\n",
       "    </tr>\n",
       "    <tr>\n",
       "      <th>12397</th>\n",
       "      <td>12397</td>\n",
       "      <td>45</td>\n",
       "      <td>26</td>\n",
       "      <td>Cute pants, but short.</td>\n",
       "      <td>These pants have a really cute design. however...</td>\n",
       "      <td>4</td>\n",
       "      <td>1</td>\n",
       "      <td>0</td>\n",
       "      <td>General</td>\n",
       "      <td>Bottoms</td>\n",
       "      <td>Casual bottoms</td>\n",
       "    </tr>\n",
       "  </tbody>\n",
       "</table>\n",
       "</div>"
      ],
      "text/plain": [
       "       Unnamed: 0  Clothing ID  Age                   Title  \\\n",
       "4612         4612           54   27                     NaN   \n",
       "12397       12397           45   26  Cute pants, but short.   \n",
       "\n",
       "                                             Review Text  Rating  \\\n",
       "4612                                                 NaN       5   \n",
       "12397  These pants have a really cute design. however...       4   \n",
       "\n",
       "       Recommended IND  Positive Feedback Count Division Name Department Name  \\\n",
       "4612                 1                        0       General         Bottoms   \n",
       "12397                1                        0       General         Bottoms   \n",
       "\n",
       "           Class Name  \n",
       "4612   Casual bottoms  \n",
       "12397  Casual bottoms  "
      ]
     },
     "execution_count": 212,
     "metadata": {},
     "output_type": "execute_result"
    }
   ],
   "source": [
    "pants = bottoms[(bottoms['Class Name'] == \"Pants\")]\n",
    "jeans = bottoms[(bottoms['Class Name'] == \"Jeans\")]\n",
    "skirts = bottoms[(bottoms['Class Name'] == \"Skirts\")]\n",
    "shorts = bottoms[(bottoms['Class Name'] == \"Shorts\")]\n",
    "casual_bottoms = bottoms[(bottoms['Class Name'] == \"Casual bottoms\")]\n",
    "\n",
    "casual_bottoms.head()"
   ]
  },
  {
   "cell_type": "code",
   "execution_count": 222,
   "metadata": {},
   "outputs": [
    {
     "data": {
      "text/html": [
       "<div>\n",
       "<style scoped>\n",
       "    .dataframe tbody tr th:only-of-type {\n",
       "        vertical-align: middle;\n",
       "    }\n",
       "\n",
       "    .dataframe tbody tr th {\n",
       "        vertical-align: top;\n",
       "    }\n",
       "\n",
       "    .dataframe thead th {\n",
       "        text-align: right;\n",
       "    }\n",
       "</style>\n",
       "<table border=\"1\" class=\"dataframe\">\n",
       "  <thead>\n",
       "    <tr style=\"text-align: right;\">\n",
       "      <th></th>\n",
       "      <th>Clases</th>\n",
       "      <th>Promedios</th>\n",
       "    </tr>\n",
       "  </thead>\n",
       "  <tbody>\n",
       "    <tr>\n",
       "      <th>0</th>\n",
       "      <td>Pants</td>\n",
       "      <td>4.265850</td>\n",
       "    </tr>\n",
       "    <tr>\n",
       "      <th>1</th>\n",
       "      <td>Jeans</td>\n",
       "      <td>4.360942</td>\n",
       "    </tr>\n",
       "    <tr>\n",
       "      <th>2</th>\n",
       "      <td>Skirts</td>\n",
       "      <td>4.245503</td>\n",
       "    </tr>\n",
       "    <tr>\n",
       "      <th>3</th>\n",
       "      <td>Shorts</td>\n",
       "      <td>4.255521</td>\n",
       "    </tr>\n",
       "  </tbody>\n",
       "</table>\n",
       "</div>"
      ],
      "text/plain": [
       "   Clases  Promedios\n",
       "0   Pants   4.265850\n",
       "1   Jeans   4.360942\n",
       "2  Skirts   4.245503\n",
       "3  Shorts   4.255521"
      ]
     },
     "execution_count": 222,
     "metadata": {},
     "output_type": "execute_result"
    }
   ],
   "source": [
    "bottoms_ratings =     [pants[\"Rating\"].mean(),\n",
    "                      jeans[\"Rating\"].mean(),\n",
    "                      skirts[\"Rating\"].mean(),\n",
    "                      shorts[\"Rating\"].mean()]\n",
    "bottoms_names = [\"Pants\", \"Jeans\", \"Skirts\", \"Shorts\"]\n",
    "rating_bottoms = {'Clases':bottoms_names,'Promedios':bottoms_ratings}\n",
    "df_bottoms_r = pd.DataFrame(rating_bottoms)\n",
    "df_bottoms_r"
   ]
  },
  {
   "cell_type": "code",
   "execution_count": null,
   "metadata": {},
   "outputs": [],
   "source": []
  },
  {
   "cell_type": "code",
   "execution_count": null,
   "metadata": {},
   "outputs": [],
   "source": []
  },
  {
   "cell_type": "markdown",
   "metadata": {},
   "source": [
    "### Intimate"
   ]
  },
  {
   "cell_type": "code",
   "execution_count": 214,
   "metadata": {},
   "outputs": [
    {
     "data": {
      "text/plain": [
       "Lounge       39.827089\n",
       "Swim         20.172911\n",
       "Sleep        13.141210\n",
       "Legwear       9.510086\n",
       "Intimates     8.876081\n",
       "Layering      8.414986\n",
       "Chemises      0.057637\n",
       "Name: Class Name, dtype: float64"
      ]
     },
     "execution_count": 214,
     "metadata": {},
     "output_type": "execute_result"
    }
   ],
   "source": [
    "intimate[\"Class Name\"].value_counts()/len(intimate[\"Class Name\"]) * 100"
   ]
  },
  {
   "cell_type": "code",
   "execution_count": 231,
   "metadata": {},
   "outputs": [],
   "source": [
    "lounge = intimate[(intimate['Class Name'] == \"Lounge\")]\n",
    "swim = intimate[(intimate['Class Name'] == \"Swim\")]\n",
    "legwear = intimate[(intimate['Class Name'] == \"Legwear\")]\n",
    "intimate_class = intimate[(intimate['Class Name'] == \"Intimates\")]\n",
    "layering = intimate[(intimate['Class Name'] == \"Layering\")]"
   ]
  },
  {
   "cell_type": "code",
   "execution_count": 232,
   "metadata": {},
   "outputs": [
    {
     "data": {
      "text/html": [
       "<div>\n",
       "<style scoped>\n",
       "    .dataframe tbody tr th:only-of-type {\n",
       "        vertical-align: middle;\n",
       "    }\n",
       "\n",
       "    .dataframe tbody tr th {\n",
       "        vertical-align: top;\n",
       "    }\n",
       "\n",
       "    .dataframe thead th {\n",
       "        text-align: right;\n",
       "    }\n",
       "</style>\n",
       "<table border=\"1\" class=\"dataframe\">\n",
       "  <thead>\n",
       "    <tr style=\"text-align: right;\">\n",
       "      <th></th>\n",
       "      <th>Clases</th>\n",
       "      <th>Promedios</th>\n",
       "    </tr>\n",
       "  </thead>\n",
       "  <tbody>\n",
       "    <tr>\n",
       "      <th>0</th>\n",
       "      <td>Lounge</td>\n",
       "      <td>4.301013</td>\n",
       "    </tr>\n",
       "    <tr>\n",
       "      <th>1</th>\n",
       "      <td>Swim</td>\n",
       "      <td>4.197143</td>\n",
       "    </tr>\n",
       "    <tr>\n",
       "      <th>2</th>\n",
       "      <td>Legwear</td>\n",
       "      <td>4.278788</td>\n",
       "    </tr>\n",
       "    <tr>\n",
       "      <th>3</th>\n",
       "      <td>Intimate</td>\n",
       "      <td>4.280115</td>\n",
       "    </tr>\n",
       "    <tr>\n",
       "      <th>4</th>\n",
       "      <td>Layering</td>\n",
       "      <td>4.376712</td>\n",
       "    </tr>\n",
       "  </tbody>\n",
       "</table>\n",
       "</div>"
      ],
      "text/plain": [
       "     Clases  Promedios\n",
       "0    Lounge   4.301013\n",
       "1      Swim   4.197143\n",
       "2   Legwear   4.278788\n",
       "3  Intimate   4.280115\n",
       "4  Layering   4.376712"
      ]
     },
     "execution_count": 232,
     "metadata": {},
     "output_type": "execute_result"
    }
   ],
   "source": [
    "intimate_ratings =    [lounge[\"Rating\"].mean(),\n",
    "                      swim[\"Rating\"].mean(),\n",
    "                      legwear[\"Rating\"].mean(),\n",
    "                      intimate[\"Rating\"].mean(),\n",
    "                      layering[\"Rating\"].mean()]\n",
    "intimate_names = [\"Lounge\", \"Swim\", \"Legwear\", \"Intimate\", \"Layering\"]\n",
    "rating_intimate = {'Clases':intimate_names,'Promedios':intimate_ratings}\n",
    "df_intimate_r = pd.DataFrame(rating_intimate)\n",
    "df_intimate_r"
   ]
  },
  {
   "cell_type": "code",
   "execution_count": null,
   "metadata": {},
   "outputs": [],
   "source": []
  },
  {
   "cell_type": "markdown",
   "metadata": {},
   "source": [
    "### Jackets"
   ]
  },
  {
   "cell_type": "code",
   "execution_count": 194,
   "metadata": {},
   "outputs": [
    {
     "data": {
      "text/plain": [
       "Jackets      68.217054\n",
       "Outerwear    31.782946\n",
       "Name: Class Name, dtype: float64"
      ]
     },
     "execution_count": 194,
     "metadata": {},
     "output_type": "execute_result"
    }
   ],
   "source": [
    "jackets[\"Class Name\"].value_counts()/len(jackets[\"Class Name\"]) * 100"
   ]
  },
  {
   "cell_type": "code",
   "execution_count": 216,
   "metadata": {},
   "outputs": [
    {
     "data": {
      "text/html": [
       "<div>\n",
       "<style scoped>\n",
       "    .dataframe tbody tr th:only-of-type {\n",
       "        vertical-align: middle;\n",
       "    }\n",
       "\n",
       "    .dataframe tbody tr th {\n",
       "        vertical-align: top;\n",
       "    }\n",
       "\n",
       "    .dataframe thead th {\n",
       "        text-align: right;\n",
       "    }\n",
       "</style>\n",
       "<table border=\"1\" class=\"dataframe\">\n",
       "  <thead>\n",
       "    <tr style=\"text-align: right;\">\n",
       "      <th></th>\n",
       "      <th>Unnamed: 0</th>\n",
       "      <th>Clothing ID</th>\n",
       "      <th>Age</th>\n",
       "      <th>Title</th>\n",
       "      <th>Review Text</th>\n",
       "      <th>Rating</th>\n",
       "      <th>Recommended IND</th>\n",
       "      <th>Positive Feedback Count</th>\n",
       "      <th>Division Name</th>\n",
       "      <th>Department Name</th>\n",
       "      <th>Class Name</th>\n",
       "    </tr>\n",
       "  </thead>\n",
       "  <tbody>\n",
       "    <tr>\n",
       "      <th>18</th>\n",
       "      <td>18</td>\n",
       "      <td>1120</td>\n",
       "      <td>32</td>\n",
       "      <td>Super cute and cozy</td>\n",
       "      <td>A flattering, super cozy coat.  will work well...</td>\n",
       "      <td>5</td>\n",
       "      <td>1</td>\n",
       "      <td>0</td>\n",
       "      <td>General</td>\n",
       "      <td>Jackets</td>\n",
       "      <td>Outerwear</td>\n",
       "    </tr>\n",
       "    <tr>\n",
       "      <th>82</th>\n",
       "      <td>82</td>\n",
       "      <td>1133</td>\n",
       "      <td>33</td>\n",
       "      <td>Cute parka!</td>\n",
       "      <td>The rest of the reviewers are right about the ...</td>\n",
       "      <td>5</td>\n",
       "      <td>1</td>\n",
       "      <td>0</td>\n",
       "      <td>General</td>\n",
       "      <td>Jackets</td>\n",
       "      <td>Outerwear</td>\n",
       "    </tr>\n",
       "    <tr>\n",
       "      <th>98</th>\n",
       "      <td>98</td>\n",
       "      <td>1133</td>\n",
       "      <td>50</td>\n",
       "      <td>NaN</td>\n",
       "      <td>NaN</td>\n",
       "      <td>5</td>\n",
       "      <td>1</td>\n",
       "      <td>0</td>\n",
       "      <td>General</td>\n",
       "      <td>Jackets</td>\n",
       "      <td>Outerwear</td>\n",
       "    </tr>\n",
       "    <tr>\n",
       "      <th>126</th>\n",
       "      <td>126</td>\n",
       "      <td>1133</td>\n",
       "      <td>71</td>\n",
       "      <td>NaN</td>\n",
       "      <td>I read the previous reviews and had hoped that...</td>\n",
       "      <td>4</td>\n",
       "      <td>1</td>\n",
       "      <td>0</td>\n",
       "      <td>General</td>\n",
       "      <td>Jackets</td>\n",
       "      <td>Outerwear</td>\n",
       "    </tr>\n",
       "    <tr>\n",
       "      <th>127</th>\n",
       "      <td>127</td>\n",
       "      <td>1133</td>\n",
       "      <td>30</td>\n",
       "      <td>NaN</td>\n",
       "      <td>This coat is beautiful! i love the color and t...</td>\n",
       "      <td>5</td>\n",
       "      <td>1</td>\n",
       "      <td>0</td>\n",
       "      <td>General</td>\n",
       "      <td>Jackets</td>\n",
       "      <td>Outerwear</td>\n",
       "    </tr>\n",
       "  </tbody>\n",
       "</table>\n",
       "</div>"
      ],
      "text/plain": [
       "     Unnamed: 0  Clothing ID  Age                Title  \\\n",
       "18           18         1120   32  Super cute and cozy   \n",
       "82           82         1133   33          Cute parka!   \n",
       "98           98         1133   50                  NaN   \n",
       "126         126         1133   71                  NaN   \n",
       "127         127         1133   30                  NaN   \n",
       "\n",
       "                                           Review Text  Rating  \\\n",
       "18   A flattering, super cozy coat.  will work well...       5   \n",
       "82   The rest of the reviewers are right about the ...       5   \n",
       "98                                                 NaN       5   \n",
       "126  I read the previous reviews and had hoped that...       4   \n",
       "127  This coat is beautiful! i love the color and t...       5   \n",
       "\n",
       "     Recommended IND  Positive Feedback Count Division Name Department Name  \\\n",
       "18                 1                        0       General         Jackets   \n",
       "82                 1                        0       General         Jackets   \n",
       "98                 1                        0       General         Jackets   \n",
       "126                1                        0       General         Jackets   \n",
       "127                1                        0       General         Jackets   \n",
       "\n",
       "    Class Name  \n",
       "18   Outerwear  \n",
       "82   Outerwear  \n",
       "98   Outerwear  \n",
       "126  Outerwear  \n",
       "127  Outerwear  "
      ]
     },
     "execution_count": 216,
     "metadata": {},
     "output_type": "execute_result"
    }
   ],
   "source": [
    "jacket_class = jackets[(jackets['Class Name'] == \"Jackets\")]\n",
    "outerwear = jackets[(jackets['Class Name'] == \"Outerwear\")]\n",
    "\n",
    "outerwear.head()"
   ]
  },
  {
   "cell_type": "code",
   "execution_count": 233,
   "metadata": {},
   "outputs": [
    {
     "data": {
      "text/html": [
       "<div>\n",
       "<style scoped>\n",
       "    .dataframe tbody tr th:only-of-type {\n",
       "        vertical-align: middle;\n",
       "    }\n",
       "\n",
       "    .dataframe tbody tr th {\n",
       "        vertical-align: top;\n",
       "    }\n",
       "\n",
       "    .dataframe thead th {\n",
       "        text-align: right;\n",
       "    }\n",
       "</style>\n",
       "<table border=\"1\" class=\"dataframe\">\n",
       "  <thead>\n",
       "    <tr style=\"text-align: right;\">\n",
       "      <th></th>\n",
       "      <th>Clases</th>\n",
       "      <th>Promedios</th>\n",
       "    </tr>\n",
       "  </thead>\n",
       "  <tbody>\n",
       "    <tr>\n",
       "      <th>0</th>\n",
       "      <td>Jackets</td>\n",
       "      <td>4.295455</td>\n",
       "    </tr>\n",
       "    <tr>\n",
       "      <th>1</th>\n",
       "      <td>Outerwear</td>\n",
       "      <td>4.198171</td>\n",
       "    </tr>\n",
       "  </tbody>\n",
       "</table>\n",
       "</div>"
      ],
      "text/plain": [
       "      Clases  Promedios\n",
       "0    Jackets   4.295455\n",
       "1  Outerwear   4.198171"
      ]
     },
     "execution_count": 233,
     "metadata": {},
     "output_type": "execute_result"
    }
   ],
   "source": [
    "jacket_ratings =    [jacket_class[\"Rating\"].mean(),\n",
    "                      outerwear[\"Rating\"].mean()]\n",
    "jacket_names = [\"Jackets\", \"Outerwear\"]\n",
    "rating_jacket = {'Clases':jacket_names,'Promedios':jacket_ratings}\n",
    "df_jacket_r = pd.DataFrame(rating_jacket)\n",
    "df_jacket_r"
   ]
  },
  {
   "cell_type": "code",
   "execution_count": null,
   "metadata": {},
   "outputs": [],
   "source": []
  },
  {
   "cell_type": "markdown",
   "metadata": {},
   "source": [
    "### Trend"
   ]
  },
  {
   "cell_type": "code",
   "execution_count": 195,
   "metadata": {},
   "outputs": [
    {
     "data": {
      "text/plain": [
       "Trend    100.0\n",
       "Name: Class Name, dtype: float64"
      ]
     },
     "execution_count": 195,
     "metadata": {},
     "output_type": "execute_result"
    }
   ],
   "source": [
    "trends[\"Class Name\"].value_counts()/len(trends[\"Class Name\"]) * 100"
   ]
  },
  {
   "cell_type": "code",
   "execution_count": 235,
   "metadata": {},
   "outputs": [
    {
     "data": {
      "text/plain": [
       "3.8151260504201683"
      ]
     },
     "execution_count": 235,
     "metadata": {},
     "output_type": "execute_result"
    }
   ],
   "source": [
    "trends[\"Rating\"].mean()"
   ]
  },
  {
   "cell_type": "code",
   "execution_count": 250,
   "metadata": {},
   "outputs": [
    {
     "data": {
      "text/html": [
       "<div>\n",
       "<style scoped>\n",
       "    .dataframe tbody tr th:only-of-type {\n",
       "        vertical-align: middle;\n",
       "    }\n",
       "\n",
       "    .dataframe tbody tr th {\n",
       "        vertical-align: top;\n",
       "    }\n",
       "\n",
       "    .dataframe thead th {\n",
       "        text-align: right;\n",
       "    }\n",
       "</style>\n",
       "<table border=\"1\" class=\"dataframe\">\n",
       "  <thead>\n",
       "    <tr style=\"text-align: right;\">\n",
       "      <th></th>\n",
       "      <th>Clases</th>\n",
       "      <th>Promedios</th>\n",
       "    </tr>\n",
       "  </thead>\n",
       "  <tbody>\n",
       "    <tr>\n",
       "      <th>0</th>\n",
       "      <td>trends</td>\n",
       "      <td>3.815126</td>\n",
       "    </tr>\n",
       "  </tbody>\n",
       "</table>\n",
       "</div>"
      ],
      "text/plain": [
       "   Clases  Promedios\n",
       "0  trends   3.815126"
      ]
     },
     "execution_count": 250,
     "metadata": {},
     "output_type": "execute_result"
    }
   ],
   "source": [
    "trends_ratings = [trends[\"Rating\"].mean()]\n",
    "trend_names = [\"trends\"]\n",
    "rating_trend = {'Clases':trend_names,'Promedios':trends_ratings}\n",
    "df_trend_r = pd.DataFrame(rating_trend)\n",
    "df_trend_r"
   ]
  },
  {
   "cell_type": "markdown",
   "metadata": {},
   "source": [
    "### General"
   ]
  },
  {
   "cell_type": "code",
   "execution_count": 277,
   "metadata": {},
   "outputs": [],
   "source": [
    "class_ratings = pd.DataFrame()\n",
    "rating_classes = class_ratings.append([df_tops_r,\n",
    "                                       df_dress_r,\n",
    "                                       df_bottoms_r,\n",
    "                                       df_intimate_r,\n",
    "                                       df_jacket_r,\n",
    "                                       df_trend_r])\n",
    "rating_classes = rating_classes.sort_values(by=[\"Promedios\"], ascending=False)"
   ]
  },
  {
   "cell_type": "code",
   "execution_count": 279,
   "metadata": {},
   "outputs": [
    {
     "data": {
      "text/html": [
       "<div>\n",
       "<style scoped>\n",
       "    .dataframe tbody tr th:only-of-type {\n",
       "        vertical-align: middle;\n",
       "    }\n",
       "\n",
       "    .dataframe tbody tr th {\n",
       "        vertical-align: top;\n",
       "    }\n",
       "\n",
       "    .dataframe thead th {\n",
       "        text-align: right;\n",
       "    }\n",
       "</style>\n",
       "<table border=\"1\" class=\"dataframe\">\n",
       "  <thead>\n",
       "    <tr style=\"text-align: right;\">\n",
       "      <th></th>\n",
       "      <th>Clases</th>\n",
       "      <th>Promedios</th>\n",
       "    </tr>\n",
       "  </thead>\n",
       "  <tbody>\n",
       "    <tr>\n",
       "      <th>4</th>\n",
       "      <td>Layering</td>\n",
       "      <td>4.376712</td>\n",
       "    </tr>\n",
       "    <tr>\n",
       "      <th>1</th>\n",
       "      <td>Jeans</td>\n",
       "      <td>4.360942</td>\n",
       "    </tr>\n",
       "    <tr>\n",
       "      <th>0</th>\n",
       "      <td>Lounge</td>\n",
       "      <td>4.301013</td>\n",
       "    </tr>\n",
       "    <tr>\n",
       "      <th>0</th>\n",
       "      <td>Jackets</td>\n",
       "      <td>4.295455</td>\n",
       "    </tr>\n",
       "    <tr>\n",
       "      <th>3</th>\n",
       "      <td>Intimate</td>\n",
       "      <td>4.280115</td>\n",
       "    </tr>\n",
       "    <tr>\n",
       "      <th>2</th>\n",
       "      <td>Legwear</td>\n",
       "      <td>4.278788</td>\n",
       "    </tr>\n",
       "    <tr>\n",
       "      <th>0</th>\n",
       "      <td>Pants</td>\n",
       "      <td>4.265850</td>\n",
       "    </tr>\n",
       "    <tr>\n",
       "      <th>3</th>\n",
       "      <td>Fine gauge</td>\n",
       "      <td>4.260909</td>\n",
       "    </tr>\n",
       "    <tr>\n",
       "      <th>3</th>\n",
       "      <td>Shorts</td>\n",
       "      <td>4.255521</td>\n",
       "    </tr>\n",
       "    <tr>\n",
       "      <th>2</th>\n",
       "      <td>Skirts</td>\n",
       "      <td>4.245503</td>\n",
       "    </tr>\n",
       "    <tr>\n",
       "      <th>1</th>\n",
       "      <td>Outerwear</td>\n",
       "      <td>4.198171</td>\n",
       "    </tr>\n",
       "    <tr>\n",
       "      <th>1</th>\n",
       "      <td>Swim</td>\n",
       "      <td>4.197143</td>\n",
       "    </tr>\n",
       "    <tr>\n",
       "      <th>2</th>\n",
       "      <td>Sweaters</td>\n",
       "      <td>4.179272</td>\n",
       "    </tr>\n",
       "    <tr>\n",
       "      <th>1</th>\n",
       "      <td>Knits</td>\n",
       "      <td>4.161677</td>\n",
       "    </tr>\n",
       "    <tr>\n",
       "      <th>0</th>\n",
       "      <td>Blouses</td>\n",
       "      <td>4.154020</td>\n",
       "    </tr>\n",
       "    <tr>\n",
       "      <th>0</th>\n",
       "      <td>Dresses</td>\n",
       "      <td>4.150815</td>\n",
       "    </tr>\n",
       "    <tr>\n",
       "      <th>0</th>\n",
       "      <td>trends</td>\n",
       "      <td>3.815126</td>\n",
       "    </tr>\n",
       "  </tbody>\n",
       "</table>\n",
       "</div>"
      ],
      "text/plain": [
       "       Clases  Promedios\n",
       "4    Layering   4.376712\n",
       "1       Jeans   4.360942\n",
       "0      Lounge   4.301013\n",
       "0     Jackets   4.295455\n",
       "3    Intimate   4.280115\n",
       "2     Legwear   4.278788\n",
       "0       Pants   4.265850\n",
       "3  Fine gauge   4.260909\n",
       "3      Shorts   4.255521\n",
       "2      Skirts   4.245503\n",
       "1   Outerwear   4.198171\n",
       "1        Swim   4.197143\n",
       "2    Sweaters   4.179272\n",
       "1       Knits   4.161677\n",
       "0     Blouses   4.154020\n",
       "0     Dresses   4.150815\n",
       "0      trends   3.815126"
      ]
     },
     "execution_count": 279,
     "metadata": {},
     "output_type": "execute_result"
    }
   ],
   "source": [
    "rating_classes"
   ]
  },
  {
   "cell_type": "code",
   "execution_count": 291,
   "metadata": {},
   "outputs": [
    {
     "data": {
      "text/plain": [
       "Text(0.5, 0, 'Promedios por clase')"
      ]
     },
     "execution_count": 291,
     "metadata": {},
     "output_type": "execute_result"
    },
    {
     "data": {
      "image/png": "[encoded data removed]",
      "text/plain": [
       "<Figure size 1080x576 with 1 Axes>"
      ]
     },
     "metadata": {},
     "output_type": "display_data"
    }
   ],
   "source": [
    "plt.figure(figsize=(15, 8))\n",
    "plt.xlim(3.7, 4.4)\n",
    "al = sns.barplot(x='Promedios', y='Clases', data=rating_classes)\n",
    "al.set_xlabel('Promedios por clase')"
   ]
  },
  {
   "cell_type": "code",
   "execution_count": null,
   "metadata": {},
   "outputs": [],
   "source": []
  },
  {
   "cell_type": "code",
   "execution_count": null,
   "metadata": {},
   "outputs": [],
   "source": []
  }
 ],
 "metadata": {
  "kernelspec": {
   "display_name": "Python 3",
   "language": "python",
   "name": "python3"
  },
  "language_info": {
   "codemirror_mode": {
    "name": "ipython",
    "version": 3
   },
   "file_extension": ".py",
   "mimetype": "text/x-python",
   "name": "python",
   "nbconvert_exporter": "python",
   "pygments_lexer": "ipython3",
   "version": "3.7.3"
  }
 },
 "nbformat": 4,
 "nbformat_minor": 2
}
